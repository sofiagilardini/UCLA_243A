{
 "cells": [
  {
   "cell_type": "markdown",
   "metadata": {},
   "source": [
    "## Homework 3, Problem 3 on inhomogeneous Poisson processes\n",
    "\n",
    "ECE C143A/C243A, Spring Quarter 2023, Prof. J.C. Kao, TAs T. Monsoor, R. Gore, D. Singla\n"
   ]
  },
  {
   "cell_type": "markdown",
   "metadata": {},
   "source": [
    " In this problem, we will use the same simulated neuron as in\n",
    "  Problem 2, but now the reaching angle $s$ will be time-dependent\n",
    "  with the following form:\n",
    "$$ s(t) = t^2 \\cdot \\pi,$$\n",
    "\n",
    "where $t$ ranges between 0 and 1 second. This will be refered as *s(t)* equation in the questions.\n"
   ]
  },
  {
   "cell_type": "code",
   "execution_count": 30,
   "metadata": {
    "collapsed": true
   },
   "outputs": [
    {
     "name": "stdout",
     "output_type": "stream",
     "text": [
      "The autoreload extension is already loaded. To reload it, use:\n",
      "  %reload_ext autoreload\n"
     ]
    }
   ],
   "source": [
    "\"\"\"\n",
    "ECE C143/C243 Homework-3 Problem-3\n",
    "\n",
    "\"\"\"\n",
    "import numpy as np\n",
    "import matplotlib.pyplot as plt\n",
    "import nsp as nsp # these are helper functions that we provide.\n",
    "import scipy.special\n",
    "\n",
    "# Load matplotlib images inline\n",
    "%matplotlib inline\n",
    "\n",
    "# Reloading any code written in external .py files.\n",
    "%load_ext autoreload\n",
    "%autoreload 2"
   ]
  },
  {
   "cell_type": "markdown",
   "metadata": {},
   "source": [
    "### (a) (6 points) Spike trains\n",
    "Generate 100 spike trains, each 1 second in duration, according to\n",
    "an inhomogeneous Poisson process with a firing rate profile defined\n",
    "by tuning equation, $$\\lambda(s) = r_0 + (r_\\text{max} - r_0)\\cos(s-s_\\text{max})$$ \n",
    "and the $s(t)$ equation, $$ s(t) = t^2 \\cdot \\pi$$"
   ]
  },
  {
   "cell_type": "code",
   "execution_count": 4,
   "metadata": {
    "collapsed": true
   },
   "outputs": [],
   "source": [
    "r_0 = 35 # (spikes/s)\n",
    "r_max = 60 # (spikes/s)\n",
    "s_max = np.pi/2 # (radians)\n",
    "T = 1000 # trial length (ms)"
   ]
  },
  {
   "cell_type": "code",
   "execution_count": 5,
   "metadata": {
    "collapsed": true
   },
   "outputs": [
    {
     "data": {
      "text/plain": [
       "1.3161906679489954"
      ]
     },
     "execution_count": 5,
     "metadata": {},
     "output_type": "execute_result"
    }
   ],
   "source": [
    "np.random.exponential(1.0/r_max * 1000)"
   ]
  },
  {
   "cell_type": "code",
   "execution_count": null,
   "metadata": {},
   "outputs": [],
   "source": [
    "def tuning_curve(s):\n",
    "    return r_0 + (r_max - r_0) * np.cos(s - s_max)"
   ]
  },
  {
   "cell_type": "code",
   "execution_count": 29,
   "metadata": {
    "collapsed": true
   },
   "outputs": [
    {
     "data": {
      "image/png": "[encoded data removed]",
      "text/plain": [
       "<Figure size 720x576 with 1 Axes>"
      ]
     },
     "metadata": {
      "needs_background": "light"
     },
     "output_type": "display_data"
    }
   ],
   "source": [
    "num_trials = 100 # number of total spike trains\n",
    "num_rasters_to_plot = 5 # number of spike trains to plot\n",
    "\n",
    "spike_trains = []\n",
    "\n",
    "# Generate spike trains\n",
    "for i in range(num_trials):\n",
    "    spikes = []\n",
    "    t = 0\n",
    "\n",
    "    while t < T: \n",
    "        fr = tuning_curve(s(t))\n",
    "        t += np.random.exponential(1.0/r_max * 1000)\n",
    "\n",
    "        if t < T: \n",
    "            spikes.append(t)\n",
    "\n",
    "    spike_trains.append(spikes)\n",
    "\n",
    "# Plot example spike rasters\n",
    "plt.figure(figsize=(10,8))\n",
    "offset = 0\n",
    "for i in range(num_rasters_to_plot):\n",
    "    plt.eventplot(spike_trains[i][:], color='k', alpha=0.2, lineoffsets=offset)\n",
    "    offset += 1\n",
    "plt.xlim([0, T])\n",
    "plt.ylim([-1, num_rasters_to_plot])\n",
    "plt.xlabel('Time (ms)')\n",
    "plt.ylabel('Trial')\n",
    "plt.title('Example Spike Rasters')\n",
    "plt.show()\n"
   ]
  },
  {
   "cell_type": "markdown",
   "metadata": {},
   "source": [
    "### (b) (5 points) Spike histogram\n",
    "  Plot the spike histogram by taking spike counts in non-overlapping\n",
    "  20 ms bins, then averaging across the 100 trials.  The spike\n",
    "  histogram should have firing rate (in spikes / second) as the\n",
    "  vertical axis and time (in msec, not time bin index) as the\n",
    "  horizontal axis. Plot the expected firing rate profile defined by equations\n",
    " tuning equation and *s(t)* equation on the same plot. "
   ]
  },
  {
   "cell_type": "code",
   "execution_count": null,
   "metadata": {
    "collapsed": true
   },
   "outputs": [],
   "source": [
    "# 3b\n",
    "bin_width = 20 # (ms)\n",
    "#====================================================#\n",
    "# YOUR CODE HERE:\n",
    "#   Plot the spike histogram\n",
    "#====================================================#\n",
    "pass\n",
    "\n",
    "#====================================================#\n",
    "# END YOUR CODE\n",
    "#====================================================#\n",
    "\n",
    "plt.ylabel('spikes/s')\n",
    "plt.xlabel('Time(ms)')"
   ]
  },
  {
   "cell_type": "markdown",
   "metadata": {},
   "source": [
    "#### Question:\n",
    "Does the spike histogram agree with the expected firing rate profile?"
   ]
  },
  {
   "cell_type": "markdown",
   "metadata": {},
   "source": [
    "#### Your Answer:"
   ]
  },
  {
   "cell_type": "markdown",
   "metadata": {},
   "source": [
    "### (c) (6 points) Count distribution\n",
    "  For each trial, count the number of spikes across the entire trial.\n",
    "  Plot the normalized distribution of spike counts.  Fit a Poisson\n",
    "  distribution to this empirical distribution and plot it on top of\n",
    "  the empirical distribution.  "
   ]
  },
  {
   "cell_type": "code",
   "execution_count": null,
   "metadata": {
    "collapsed": true
   },
   "outputs": [],
   "source": [
    "#====================================================#\n",
    "# YOUR CODE HERE:\n",
    "#   Plot the normalized distribution of spike counts\n",
    "#====================================================#\n",
    "pass\n",
    "\n",
    "#====================================================#\n",
    "# END YOUR CODE\n",
    "#====================================================#\n",
    "plt.xlabel('spike count')\n",
    "plt.ylabel('p(spikecount)')\n",
    "plt.show()"
   ]
  },
  {
   "cell_type": "markdown",
   "metadata": {},
   "source": [
    "#### Question:\n",
    "Should we expect the spike counts to be Poisson-distributed?"
   ]
  },
  {
   "cell_type": "markdown",
   "metadata": {},
   "source": [
    "#### Your Answer:"
   ]
  },
  {
   "cell_type": "markdown",
   "metadata": {},
   "source": [
    "### (d) (5 points) ISI distribution\n",
    "  Plot the normalized distribution of ISIs.  Fit an exponential\n",
    "  distribution to the empirical distribution and plot it on top of the\n",
    "  empirical distribution. "
   ]
  },
  {
   "cell_type": "code",
   "execution_count": null,
   "metadata": {
    "collapsed": true
   },
   "outputs": [],
   "source": [
    "#====================================================#\n",
    "# YOUR CODE HERE:\n",
    "#   Plot the normalized distribution of ISIs\n",
    "#====================================================#\n",
    "pass\n",
    "\n",
    "#====================================================#\n",
    "# END YOUR CODE\n",
    "#====================================================#\n",
    "plt.xlabel('ISI (ms)')\n",
    "plt.ylabel('P(ISI)')\n",
    "plt.show()"
   ]
  },
  {
   "cell_type": "markdown",
   "metadata": {},
   "source": [
    "#### Question: \n",
    "Should we expect the ISIs to be exponentially-distributed?\n",
    "(Note, it is possible for the  empirical distribution to strongly resemble an exponential distribution even if the data aren't exponentially distributed.)"
   ]
  },
  {
   "cell_type": "markdown",
   "metadata": {},
   "source": [
    "#### Your Answer:"
   ]
  }
 ],
 "metadata": {
  "kernelspec": {
   "display_name": "base",
   "language": "python",
   "name": "python3"
  },
  "language_info": {
   "codemirror_mode": {
    "name": "ipython",
    "version": 3
   },
   "file_extension": ".py",
   "mimetype": "text/x-python",
   "name": "python",
   "nbconvert_exporter": "python",
   "pygments_lexer": "ipython3",
   "version": "3.8.8 (default, Apr 13 2021, 12:59:45) \n[Clang 10.0.0 ]"
  },
  "vscode": {
   "interpreter": {
    "hash": "b09acc547dda0abba2c23fcb8d82975ee324aece1a65962f9bf2d993acca7b61"
   }
  }
 },
 "nbformat": 4,
 "nbformat_minor": 2
}

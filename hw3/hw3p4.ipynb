{
 "cells": [
  {
   "cell_type": "markdown",
   "metadata": {},
   "source": [
    "## Homework 3, Problem 4 on real neural data.\n",
    "\n",
    "ECE C143A/C243A, Spring Quarter 2023, Prof. J.C. Kao, TAs T. Monsoor, R. Gore, D. Singla\n"
   ]
  },
  {
   "cell_type": "code",
   "execution_count": null,
   "metadata": {
    "collapsed": true
   },
   "outputs": [],
   "source": [
    "\"\"\"\n",
    "ECE C143/C243 Homework-3 Problem-4\n",
    "\n",
    "\"\"\"\n",
    "\n",
    "# Importing the necessary packages\n",
    "\n",
    "import numpy as np\n",
    "import matplotlib.pyplot as plt\n",
    "import nsp as nsp\n",
    "import scipy.special\n",
    "import scipy.io as sio\n",
    "\n",
    "# Importing the Matlab data\n",
    "data = sio.loadmat('ps3_data.mat') # load the .mat file.\n",
    "num_trials = data['trial'].shape[0]\n",
    "num_cons = data['trial'].shape[1]\n",
    "\n",
    "# Load matplotlib images inline\n",
    "%matplotlib inline\n",
    "\n",
    "# Reloading any code written in external .py files.\n",
    "%load_ext autoreload\n",
    "%autoreload 2"
   ]
  },
  {
   "cell_type": "markdown",
   "metadata": {},
   "source": [
    "### (a) (6 points) Spike trains\n",
    "Generate the `spike_times` matrix for the real data.  This should have the same `spike_times` format described in problem 2.  The following code, when complete, will plot 5 spike trains for each reaching angle in the same format as shown in Figure 1.6(A) in *TN*.  To simplify the plotting"
   ]
  },
  {
   "cell_type": "code",
   "execution_count": null,
   "metadata": {
    "collapsed": true
   },
   "outputs": [],
   "source": [
    "## 4a\n",
    "\n",
    "T = 500; #trial length (ms)\n",
    "\n",
    "num_rasters_to_plot = 5; # per reaching angle\n",
    "\n",
    "s = np.pi*np.array([30.0/180,70.0/180,110.0/180 ,150.0/180 ,190.0/180 ,230.0/180 ,310.0/180 ,350.0/180]) # radians\n",
    "s_labels = ['30$\\pi$/180', '70$\\pi$/180', '110$\\pi$/180', '150$\\pi$/180', '190$\\pi$/180',\n",
    "            '230$\\pi$/180', '310$\\pi$/180', '350$\\pi$/180']\n",
    "\n",
    "# These variables help to arrange plots around a circle\n",
    "num_plot_rows = 5\n",
    "num_plot_cols = 3\n",
    "subplot_indx = [9, 6, 2, 4, 7, 10, 14, 12]\n",
    "\n",
    "# Initialize the spike_times array\n",
    "spike_times = np.empty((num_cons, num_trials), dtype=list)\n",
    "\n",
    "plt.figure(figsize=(10,8))\n",
    "for con in range(num_cons):\n",
    "    for rep in range(num_trials):\n",
    "        #====================================================#\n",
    "        # YOUR CODE HERE:\n",
    "        #   Calculate the spike trains for each reaching angle.\n",
    "        #   You should calculate the spike_times array that you \n",
    "        #   computed in problem 2.  This way, the following code\n",
    "        #   will plot the histograms for you.\n",
    "        #====================================================#  \n",
    "        spike_times[con, rep] = np.array((0,1))\n",
    "        pass\n",
    "\n",
    "        #====================================================#\n",
    "        # END YOUR CODE\n",
    "        #====================================================# \n",
    "\n",
    "    plt.subplot(num_plot_rows, num_plot_cols, subplot_indx[con])\n",
    "    nsp.PlotSpikeRaster(spike_times[con, 0:num_rasters_to_plot])\n",
    "    plt.title('Spike trains, s= '+s_labels[con]+' radians')\n",
    "    plt.tight_layout()\n"
   ]
  },
  {
   "cell_type": "markdown",
   "metadata": {},
   "source": [
    "### (b) (5 points) Spike histogram\n",
    "For each reaching angle, find the spike histogram by taking spike counts in non-overlapping 20~ms bins, then averaging across the 182 trials.  The spike histograms should have firing rate (in spikes / second) as the vertical axis and time (in msec, not time bin index) as the horizontal axis.  Plot the histogram for 500ms worth of data.  Plot the 8 resulting spike histograms around a circle, as in part (a)."
   ]
  },
  {
   "cell_type": "code",
   "execution_count": null,
   "metadata": {
    "collapsed": true
   },
   "outputs": [],
   "source": [
    "## 4b\n",
    "bin_width = 20 # (ms)\n",
    "bin_centers = np.arange(bin_width/2,T,bin_width) # (ms)\n",
    "plt.figure(figsize=(10,8))\n",
    "max_t = 500 # (ms)\n",
    "max_rate = 50 # (in spikes/s)\n",
    "\n",
    "for con in range(num_cons):\n",
    "    plt.subplot(num_plot_rows,num_plot_cols,subplot_indx[con])\n",
    "    #====================================================#\n",
    "    # YOUR CODE HERE:\n",
    "    #   Plot the spike histogram\n",
    "    #====================================================#  \n",
    "\n",
    "    pass\n",
    "\n",
    "    #====================================================#\n",
    "    # END YOUR CODE\n",
    "    #====================================================# \n",
    "    plt.axis([0, max_t, 0, max_rate])\n",
    "    plt.title('Spike histogram, s= '+s_labels[con]+' radians')\n",
    "    plt.tight_layout()\n",
    "\n"
   ]
  },
  {
   "cell_type": "markdown",
   "metadata": {},
   "source": [
    "### (c) (4 points) Tuning curve\n",
    "For each trial, count the number of spikes across the entire trial.  Plots these points on the axes shown in Figure 1.6(B) in *TN*.  There should be $182\\cdot 8$ points in the plot (but some points may be on top of each other due to the discrete nature of spike counts). For each reaching angle, find the mean firing rate across the 182 trials, and plot the mean firing rate using a red point on the same plot. \n",
    "Then, fit the cosine tuning curve \\eqn{tuning} to the 8 red points by minimizing the sum of squared errors\n",
    "    \\begin{align}\n",
    "      \\sum_{i=1}^8\\big(\\lambda(s_i) - r_0 - (r_\\text{max} -\n",
    "      r_0)\\cos(s_i-s_\\text{max})\\big)^2 \\nonumber\n",
    "    \\end{align}\n",
    "with respect to the parameters $r_0$, $r_\\text{max}$, and $s_\\text{max}$.  (Hint: this can be done using linear regression; refer to Homework \\# 2.) Plot the resulting tuning curve of this neuron in green on the same plot."
   ]
  },
  {
   "cell_type": "code",
   "execution_count": null,
   "metadata": {
    "collapsed": true
   },
   "outputs": [],
   "source": [
    "#====================================================#\n",
    "# YOUR CODE HERE:\n",
    "# Tuning curve. Please use the following colors for plot:\n",
    "# Firing rates(blue);Mean firing rate(red); Cosine tuning curve(green)\n",
    "#====================================================#  \n",
    "pass\n",
    "\n",
    "#====================================================#\n",
    "# END YOUR CODE\n",
    "#====================================================# \n",
    "plt.xlabel('Reach angle (radians)')\n",
    "plt.ylabel('Firing rate (spikes / second)')\n",
    "plt.title('Firing rates, mean firing rate and tuning curve')\n"
   ]
  },
  {
   "cell_type": "markdown",
   "metadata": {},
   "source": [
    "### (d) (6 points) Count distribution\n",
    "For each reaching angle, plot the normalized distribution of spike counts (using the same counts from part (c)).  Plot the 8 distributions around a circle, as in part (a).  Fit a Poisson distribution to each empirical distribution and plot it on top of the corresponding empirical distribution."
   ]
  },
  {
   "cell_type": "code",
   "execution_count": null,
   "metadata": {
    "collapsed": true
   },
   "outputs": [],
   "source": [
    "plt.figure(figsize=(10,8))\n",
    "max_count = 13\n",
    "spike_count_bin_centers =  np.arange(0,max_count,1)\n",
    "\n",
    "for con in range(num_cons):\n",
    "    plt.subplot(num_plot_rows,num_plot_cols,subplot_indx[con])\n",
    "\n",
    "    #====================================================#\n",
    "    # YOUR CODE HERE:\n",
    "    #   Find the empirical mean of the poission distribution\n",
    "    #   and calculate the Poisson distribution.\n",
    "    #====================================================#  \n",
    "    pass\n",
    "\n",
    "    #====================================================#\n",
    "    # END YOUR CODE\n",
    "    #====================================================# \n",
    "    \n",
    "    \n",
    "    #====================================================#\n",
    "    # YOUR CODE HERE:\n",
    "    #   Plot the empirical distribution of spike counts and the \n",
    "    #   Poission distribution you just calculated\n",
    "    #====================================================#  \n",
    "    pass\n",
    "\n",
    "    #====================================================#\n",
    "    # END YOUR CODE\n",
    "    #====================================================# \n",
    "    plt.xlim([0, max_count])\n",
    "    plt.title('Count distribution, s= '+ s_labels[con]+' radians')\n",
    "    plt.tight_layout()  \n"
   ]
  },
  {
   "cell_type": "markdown",
   "metadata": {},
   "source": [
    "#### Question:\n",
    "Why might the empirical distributions differ from the idealized Poisson distributions?"
   ]
  },
  {
   "cell_type": "markdown",
   "metadata": {},
   "source": [
    "#### Your answer:"
   ]
  },
  {
   "cell_type": "markdown",
   "metadata": {},
   "source": [
    "### (e) (4 points) Fano factor\n",
    "For each reaching angle, find the mean and variance of the spike counts across the 182 trials (using the same spike counts from part (c)).  Plot the obtained mean and variance on the axes shown in Figure 1.14(A) in *TN*.  There should be 8 points in this plot -- one per reaching angle."
   ]
  },
  {
   "cell_type": "code",
   "execution_count": null,
   "metadata": {
    "collapsed": true
   },
   "outputs": [],
   "source": [
    "## 4e\n",
    "\n",
    "#====================================================#\n",
    "# YOUR CODE HERE:\n",
    "# Plot the mean and variance of spike counts on the axes\n",
    "#====================================================#\n",
    "pass\n",
    "\n",
    "#====================================================#\n",
    "# END YOUR CODE\n",
    "#====================================================#\n",
    "plt.xlabel('mean of spike counts (spikes / trial)')\n",
    "plt.ylabel('variance of spike counts (spikes^2 / trial)')\n",
    "plt.show()"
   ]
  },
  {
   "cell_type": "markdown",
   "metadata": {},
   "source": [
    "#### Question: \n",
    "  Do these points lie near the 45 deg diagonal, as would be expected of a Poisson distribution?"
   ]
  },
  {
   "cell_type": "markdown",
   "metadata": {},
   "source": [
    "#### Your answer:"
   ]
  },
  {
   "cell_type": "markdown",
   "metadata": {},
   "source": [
    "### (f) (5 points) Interspike interval (ISI) distribution\n",
    "For each reaching angle, plot the normalized distribution of ISIs. Plot the 8 distributions around a circle, as in part (a). Fit an exponential distribution to each empirical distribution and plot it on top of the corresponding empirical distribution."
   ]
  },
  {
   "cell_type": "code",
   "execution_count": null,
   "metadata": {
    "collapsed": true
   },
   "outputs": [],
   "source": [
    "## 4f\n",
    "plt.figure(figsize=(10,8))\n",
    "num_ISI_bins = 200\n",
    "for con in range(num_cons) :\n",
    "    plt.subplot(num_plot_rows,num_plot_cols,subplot_indx[con])\n",
    "    #====================================================#\n",
    "    # YOUR CODE HERE:\n",
    "    #   Plot the interspike interval (ISI) distribution and\n",
    "    #   an exponential distribution with rate given by the inverse\n",
    "    #   of the mean ISI.\n",
    "    #====================================================#\n",
    "    pass\n",
    "    \n",
    "    #====================================================#\n",
    "    # END YOUR CODE\n",
    "    #====================================================#\n",
    "    plt.title('ISI distribution, s= '+ s_labels[con]+' radians')    \n",
    "    plt.axis([0, max_t, 0, 0.04])\n",
    "    plt.tight_layout() \n"
   ]
  },
  {
   "cell_type": "markdown",
   "metadata": {},
   "source": [
    "### Question: \n",
    " Why might the empirical distributions differ from the idealized exponential distributions?"
   ]
  },
  {
   "cell_type": "markdown",
   "metadata": {},
   "source": [
    "#### Your answer:"
   ]
  }
 ],
 "metadata": {
  "kernelspec": {
   "display_name": "base",
   "language": "python",
   "name": "python3"
  },
  "language_info": {
   "codemirror_mode": {
    "name": "ipython",
    "version": 2
   },
   "file_extension": ".py",
   "mimetype": "text/x-python",
   "name": "python",
   "nbconvert_exporter": "python",
   "pygments_lexer": "ipython2",
   "version": "3.8.8 (default, Apr 13 2021, 12:59:45) \n[Clang 10.0.0 ]"
  },
  "vscode": {
   "interpreter": {
    "hash": "b09acc547dda0abba2c23fcb8d82975ee324aece1a65962f9bf2d993acca7b61"
   }
  }
 },
 "nbformat": 4,
 "nbformat_minor": 2
}

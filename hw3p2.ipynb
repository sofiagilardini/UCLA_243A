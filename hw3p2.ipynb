{
 "cells": [
  {
   "cell_type": "markdown",
   "metadata": {},
   "source": [
    "## Homework 3, Problem 2 on homogeneous Poisson processes\n",
    "\n",
    "ECE C143A/C243A, Spring Quarter 2023, Prof. J.C. Kao, TAs T. Monsoor, R. Gore, D. Singla\n"
   ]
  },
  {
   "cell_type": "markdown",
   "metadata": {},
   "source": [
    "## Background\n",
    "\n",
    "The goal of this notebook is to model a neuron as a homogeneous Poisson processes and evaluate its properties. We will consider a simulated neuron that has a cosine tuning curve described in equation (1.15) in *TN* (*TN* refers to *Theoretical Neuroscience* by Dayan and Abbott.)\n",
    "\n",
    "$$\\lambda(s) = r_0 + (r_\\text{max} - r_0)\\cos(s-s_\\text{max})$$\n",
    "\n",
    "where $\\lambda$ is the firing rate (in spikes per second), $s$ is the reaching angle of the arm, $s_\\text{max}$ is the reaching angle associated with the maximum response $r_\\text{max}$, and $r_0$ is an offset that shifts the tuning curve up from the zero axis.  This will be refered as tuning equation in the following questions.\n",
    "\n",
    "Let $r_0=35$, $r_\\text{max}=60$, and $s_\\text{max}=\\pi/2$.\n",
    "\n",
    "Note: If you are not as familiar with Python, be aware that if 1 is of type `int`, then 1 / a where a is any `int` greater than 1 will return 0, rather than a real number between 0 and 1.  This is because Python will return an `int` if both inputs are `int`s.  If instead you write 1.0 / a, you will get out the desired output, since 1.0 is of type `float`."
   ]
  },
  {
   "cell_type": "code",
   "execution_count": null,
   "metadata": {
    "collapsed": true
   },
   "outputs": [],
   "source": [
    "\"\"\"\n",
    "ECE C143/C243 Homework-3 Problem-2\n",
    "\n",
    "\"\"\"\n",
    "import numpy as np\n",
    "import matplotlib.pyplot as plt\n",
    "import nsp as nsp # these are helper functions that we provide.\n",
    "import scipy.special\n",
    "\n",
    "# Load matplotlib images inline\n",
    "%matplotlib inline\n",
    "\n",
    "# Reloading any code written in external .py files.\n",
    "%load_ext autoreload\n",
    "%autoreload 2"
   ]
  },
  {
   "cell_type": "markdown",
   "metadata": {},
   "source": [
    "### (a) (6 points) Spike trains\n",
    "For each of the following reaching condition ($s=k \\cdot \\pi/4$, where $k = 0,1,\\ldots,7$), generate 100 spike trains  according to a homogeneous Poisson process. Each spike train should have a duration of 1 second.  You can think of each of each spike train sequence as a trial.  Therefore, we generate 100 trials of the neuron spiking according to a homogeneous Poisson Process for 8 reach directions.\n",
    "  \n",
    "Your code for this section should populate a 2D `numpy` array, `spike_times` which has dimensions `num_cons` $\\times$ `num_trials` (i.e., it is $8 \\times 100$).  Each element of this 2D numpy array is a numpy array containing the spike times for the neuron on a given condition and trial.  Note that this array may have a different length for each trial.\n",
    "\n",
    "e.g., `spike_times.shape` should return `(8, 100)` and\n",
    "`spike_times[0,0]` should return the spike times on the first trial for a reach to the target at $0$ degrees.  In one instantiation, our code returns that `spike_times[0,0]` is:\n",
    "\n",
    "`array([   0.        ,    5.94436383,   10.85691999,   26.07821145,\n",
    "         50.02836141,   67.417219  ,   74.2948356 ,  119.19210112,\n",
    "        139.41789878,  176.59511596,  244.40788916,  267.3643421 ,\n",
    "        288.42590046,  324.3770265 ,  340.26911602,  407.75730065,\n",
    "        460.76250631,  471.23773964,  489.41659607,  514.60180131,\n",
    "        548.71822693,  565.6036432 ,  586.20557118,  601.11595447,\n",
    "        710.37485206,  751.60837895,  879.93536952,  931.26983289,\n",
    "        944.1130483 ,  949.38455374,  963.22509374,  964.67365483,\n",
    "        966.3865719 ,  974.3657882 ,  987.25729081])`\n",
    "        \n",
    "Of course, this varies based off of random seed. Also note that time at 0 is not a spike."
   ]
  },
  {
   "cell_type": "code",
   "execution_count": null,
   "metadata": {
    "collapsed": true
   },
   "outputs": [],
   "source": [
    "## 2a\n",
    "bin_width = 20                             # (ms)\n",
    "s = np.arange(8)*np.pi/4                   # (radians)\n",
    "num_cons = np.size(s)                       # num_cons = 8 in this case, number of directions\n",
    "r_0 = 35 # (spikes/s)\n",
    "r_max = 60 # (spikes/s)\n",
    "s_max = np.pi/2 # (radians)\n",
    "T = 1000 #trial length (ms)\n",
    "num_trials = 100 # number of spike trains to generate\n",
    "\n",
    "tuning = r_0 + (r_max-r_0)*np.cos(s-s_max) # tuning curve\n",
    "spike_times = np.empty((num_cons, num_trials), dtype=list)\n",
    "\n",
    "for con in range(num_cons):\n",
    "    \n",
    "    for rep in range(num_trials):\n",
    "        #====================================================#\n",
    "        # YOUR CODE HERE:\n",
    "        #   Generate homogeneous Poisson process spike trains.\n",
    "        #   You should populate the np.ndarray 'spike_times' according\n",
    "        #   to the above description.\n",
    "        #====================================================#\n",
    "        spike_times[con, rep] = np.array((0,1))\n",
    "        pass\n",
    "        #====================================================#\n",
    "        # END YOUR CODE\n",
    "        #====================================================#"
   ]
  },
  {
   "cell_type": "code",
   "execution_count": null,
   "metadata": {
    "collapsed": true
   },
   "outputs": [],
   "source": [
    "s_labels = ['0', '$\\pi$/4', '$\\pi$/2', '3$\\pi$/4', '$\\pi$', '5$\\pi$/4', '3$\\pi$/2', '7$\\pi$/4']\n",
    "num_plot_rows = 5\n",
    "num_plot_cols = 3\n",
    "subplot_indx = [9, 6, 2, 4, 7, 10, 14, 12]\n",
    "num_rasters_to_plot = 5 # per condition\n",
    "\n",
    "# Generate and plot homogeneous Poisson process spike trains\n",
    "plt.figure(figsize=(10,8))\n",
    "for con in range(num_cons):\n",
    "\n",
    "    # Plot spike rasters\n",
    "    plt.subplot(num_plot_rows, num_plot_cols, subplot_indx[con])    \n",
    "    nsp.PlotSpikeRaster(spike_times[con, 0:num_rasters_to_plot])\n",
    "    \n",
    "    plt.title('Spike trains, s= '+s_labels[con]+' radians')\n",
    "    plt.tight_layout()\n"
   ]
  },
  {
   "cell_type": "markdown",
   "metadata": {},
   "source": [
    "### Plotting the spike rasters.  \n",
    "  \n",
    "The following code plot 5 spike trains for each reaching angle in the same format as shown in Figure 1.6(A) in *TN*. You should take a look at this code to understand what it's doing.  You may also want to look at the `PlotSpikeRaster` function from `nsp`.  \n",
    "\n",
    "The plots should make intuitive sense given the tuning parameters."
   ]
  },
  {
   "cell_type": "markdown",
   "metadata": {},
   "source": [
    "### (b) (5 points) Plot spike histograms\n",
    "\n",
    "For each reaching angle, find the spike histogram by taking spike counts in non-overlapping 20 ms bins, then averaging across the 100 trials.  Plot the 8 resulting spike histograms around a circle, as in part (a).  This time, as we'll allow you to represent the data as you like, you will have to also plot each histogram on your own.  The spike histograms should have firing rate (in spikes / second) as the vertical axis and time (in msec, not time bin index) as the horizontal axis.  \n",
    "\n",
    "Suggestion: you can use plt.bar to plot the histogram, it is important to set the `width` for this function, e.g. width = 12. "
   ]
  },
  {
   "cell_type": "code",
   "execution_count": null,
   "metadata": {
    "collapsed": true
   },
   "outputs": [],
   "source": [
    "## 2b\n",
    "\n",
    "plt.figure(figsize=(10,8))\n",
    "\n",
    "for con in range(num_cons):\n",
    "    plt.subplot(num_plot_rows,num_plot_cols,subplot_indx[con])\n",
    "    #====================================================#\n",
    "    # YOUR CODE HERE:\n",
    "    #   Generate and plot spike histogram for this condition\n",
    "    #====================================================#\n",
    "    pass\n",
    "\n",
    "    #====================================================#\n",
    "    # END YOUR CODE\n",
    "    #====================================================#\n",
    "    plt.title('Spike trains, s= '+s_labels[con]+' radians')\n",
    "    plt.tight_layout()\n"
   ]
  },
  {
   "cell_type": "markdown",
   "metadata": {},
   "source": [
    "### (c) (4 points)Tuning curve\n",
    "\n",
    "For each trial, count the number of spikes across the entire trial. Plots these points on the axes like shown in Figure 1.6(B) in *TN*, where the x-axis is reach angle and the y-axis is firing rate. There should be 800 points in the plot (but some points may be on top of each other due to the discrete nature of spike counts).  For each reaching angle, find the mean firing rate across the 100 trials, and plot the mean firing rate using a red point on the same plot.  Now, plot the tuning curve of this neuron in green on the same plot.  \n",
    "  "
   ]
  },
  {
   "cell_type": "code",
   "execution_count": null,
   "metadata": {
    "collapsed": true
   },
   "outputs": [],
   "source": [
    "## 2c    \n",
    "spike_counts = np.zeros((num_cons, num_trials)) # each element in spike_counts is the total spike count for this reach direction and trial \n",
    "#====================================================#\n",
    "# YOUR CODE HERE:\n",
    "#   Plot the single trial spike counts and the tuning curve\n",
    "#   on top of each other.\n",
    "#====================================================#\n",
    "pass\n",
    "\n",
    "#====================================================#\n",
    "# END YOUR CODE\n",
    "#====================================================#\n",
    "plt.xlabel('Reach angle (radians)')\n",
    "plt.ylabel('Firing rate (spikes / second)')\n",
    "plt.title('Simulated spike counts (blue)\\n'+\n",
    "           'mean simulated spike counts (red),and\\n'+\n",
    "           'cosine tuning curve used in simulation (green)')\n",
    "plt.xlim(0, 2*np.pi)"
   ]
  },
  {
   "cell_type": "markdown",
   "metadata": {},
   "source": [
    "#### Question: Do the mean firing rates lie near the tuning curve?"
   ]
  },
  {
   "cell_type": "markdown",
   "metadata": {},
   "source": [
    "#### Your answer: "
   ]
  },
  {
   "cell_type": "markdown",
   "metadata": {},
   "source": [
    "### (d) (6 points) Count distribution\n",
    "For each reaching angle, plot the *normalized* distribution\n",
    "(i.e., normalized so that the area under the distribution equals\n",
    "one) of spike counts (using the same counts from part (c)).  Plot\n",
    "the 8 distributions around a circle, as in part (a).  Fit a Poisson\n",
    "distribution to each empirical distribution and plot it on top of\n",
    "the corresponding empirical distribution. \n",
    "\n",
    "Please plot the empirical distribution as well as the fit"
   ]
  },
  {
   "cell_type": "code",
   "execution_count": null,
   "metadata": {
    "collapsed": true
   },
   "outputs": [],
   "source": [
    "##2d\n",
    "\n",
    "plt.figure(figsize=(10,8))\n",
    "max_count = np.max(spike_counts)\n",
    "spike_count_bin_centers =  np.arange(0,max_count,1)\n",
    "\n",
    "for con in range(num_cons):\n",
    "    plt.subplot(num_plot_rows,num_plot_cols,subplot_indx[con])\n",
    "    \n",
    "    #====================================================#\n",
    "    # YOUR CODE HERE:\n",
    "    #   Calculate the empirical mean for the Poisson spike\n",
    "    #   counts, and then generate a curve reflecting the probability\n",
    "    #   mass function of the Poisson distribution as a function\n",
    "    #   of spike counts.\n",
    "    #====================================================#\n",
    "    pass\n",
    "    \n",
    "    #====================================================#\n",
    "    # END YOUR CODE\n",
    "    #====================================================#\n",
    "    \n",
    "    #====================================================#\n",
    "    # YOUR CODE HERE:\n",
    "    #   Plot the empirical count distribution, and on top of it \n",
    "    #   plot your fit Poisson distribution.\n",
    "    #====================================================#\n",
    "    pass\n",
    "\n",
    "    #====================================================#\n",
    "    # END YOUR CODE\n",
    "    #====================================================#\n",
    "    plt.xlim([0, max_count])\n",
    "    plt.title('Count distribution, s= '+ s_labels[con]+' radians')\n",
    "    plt.tight_layout()  \n"
   ]
  },
  {
   "cell_type": "markdown",
   "metadata": {},
   "source": [
    "#### Question:  \n",
    "Are the empirical distributions well-fit by Poisson distributions?"
   ]
  },
  {
   "cell_type": "markdown",
   "metadata": {},
   "source": [
    "#### Your answer: "
   ]
  },
  {
   "cell_type": "markdown",
   "metadata": {},
   "source": [
    "### (e)(4 points) Fano factor\n",
    "For each reaching angle, find the mean and variance of the spike \n",
    "counts across the 100 trials (using the same spike counts from part\n",
    "(c)).  Plot the obtained mean and variance on the axes shown in\n",
    "Figure 1.14(A) in *TN*.  There should be 8 points in this plot\n",
    "-- one per reaching angle.  "
   ]
  },
  {
   "cell_type": "code",
   "execution_count": null,
   "metadata": {
    "collapsed": true
   },
   "outputs": [],
   "source": [
    "## 2e\n",
    "#====================================================#\n",
    "# YOUR CODE HERE:\n",
    "#   Calculate and plot the mean and variance for each of\n",
    "#   the 8 reaching conditions.  Mean should be on the \n",
    "#   x-axis and variance on the y-axis.\n",
    "#====================================================#\n",
    "pass\n",
    "\n",
    "#====================================================#\n",
    "# END YOUR CODE\n",
    "#====================================================#\n",
    "\n"
   ]
  },
  {
   "cell_type": "markdown",
   "metadata": {},
   "source": [
    "#### Question:\n",
    "Do these points lie near the 45 deg diagonal, as would be expected of a Poisson distribution?"
   ]
  },
  {
   "cell_type": "markdown",
   "metadata": {},
   "source": [
    "#### Your answer: "
   ]
  },
  {
   "cell_type": "markdown",
   "metadata": {},
   "source": [
    "### (f) (5 points) Interspike interval (ISI) distribution\n",
    "For each reaching angle, plot the normalized distribution of\n",
    "ISIs. Plot the 8 distributions around a circle, as in part (a).  Fit\n",
    "an exponential distribution to each empirical distribution and plot\n",
    "it on top of the corresponding empirical distribution.  \n",
    "\n",
    "Please plot the empirical distribution as well as the fit"
   ]
  },
  {
   "cell_type": "code",
   "execution_count": null,
   "metadata": {
    "collapsed": true
   },
   "outputs": [],
   "source": [
    "## 2f\n",
    "plt.figure(figsize=(10,8))\n",
    "\n",
    "for con in range(num_cons) :\n",
    "    plt.subplot(num_plot_rows,num_plot_cols,subplot_indx[con])\n",
    "\n",
    "    \n",
    "    #====================================================#\n",
    "    # YOUR CODE HERE:\n",
    "    #   Calculate the interspike interval (ISI) distribution\n",
    "    #   by finding the empirical mean of the ISI's, which \n",
    "    #   is the inverse of the rate of the distribution.\n",
    "    #====================================================#\n",
    "    pass\n",
    "\n",
    "    #====================================================#\n",
    "    # END YOUR CODE\n",
    "    #====================================================#  \n",
    "    \n",
    "    #====================================================#\n",
    "    # YOUR CODE HERE:\n",
    "    #   Plot Interspike interval (ISI) distribution\n",
    "    #====================================================#\n",
    "    pass\n",
    "\n",
    "    #====================================================#\n",
    "    # END YOUR CODE\n",
    "    #====================================================#   \n",
    "    plt.title('ISI distribution, s= '+ s_labels[con]+' radians')\n",
    "    plt.tight_layout() "
   ]
  },
  {
   "cell_type": "markdown",
   "metadata": {},
   "source": [
    "#### Question:\n",
    "Are the empirical distributions well-fit by exponential distributions?"
   ]
  },
  {
   "cell_type": "markdown",
   "metadata": {},
   "source": [
    "#### Your answer:"
   ]
  },
  {
   "cell_type": "markdown",
   "metadata": {},
   "source": [
    "### (g) (5 points) Coefficient of variation ($C_V$)\n",
    "  For each reaching angle, find the average ISI and $C_V$ of the ISIs.\n",
    "  Plot the resulting values on the axes shown in Figure 1.16 in\n",
    "  *TN*.  There should be 8 points in this plot.  \n"
   ]
  },
  {
   "cell_type": "code",
   "execution_count": null,
   "metadata": {
    "collapsed": true
   },
   "outputs": [],
   "source": [
    "#2g\n",
    "#====================================================#\n",
    "# YOUR CODE HERE:\n",
    "# Calculate and plot coeffcient of variation\n",
    "#====================================================#\n",
    "pass\n",
    "\n",
    "#====================================================#\n",
    "# END YOUR CODE\n",
    "#====================================================#"
   ]
  },
  {
   "cell_type": "markdown",
   "metadata": {},
   "source": [
    "#### Question: \n",
    "Do the $C_V$ values lie near unity, as would be expected of a Poisson process?"
   ]
  },
  {
   "cell_type": "markdown",
   "metadata": {},
   "source": [
    "#### Your answer:"
   ]
  }
 ],
 "metadata": {
  "kernelspec": {
   "display_name": "Python 2",
   "language": "python",
   "name": "python2"
  },
  "language_info": {
   "codemirror_mode": {
    "name": "ipython",
    "version": 2
   },
   "file_extension": ".py",
   "mimetype": "text/x-python",
   "name": "python",
   "nbconvert_exporter": "python",
   "pygments_lexer": "ipython2",
   "version": "2.7.13"
  }
 },
 "nbformat": 4,
 "nbformat_minor": 2
}

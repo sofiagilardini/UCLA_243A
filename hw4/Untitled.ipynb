{
 "cells": [
  {
   "cell_type": "code",
   "execution_count": 1,
   "id": "e1dad042",
   "metadata": {},
   "outputs": [],
   "source": [
    "import numpy as np\n",
    "import matplotlib.pyplot as plt\n",
    "import scipy.stats\n",
    "import scipy.io as sio\n",
    "\n",
    "plt.rcParams[\"figure.dpi\"] = 150\n",
    "\n",
    "data = sio.loadmat(\"ps4_realdata.mat\")  # load the .mat file.\n",
    "num_traindata = data[\"train_trial\"].shape[0]\n",
    "num_class = data[\"train_trial\"].shape[1]\n",
    "num_testdata = data[\"test_trial\"].shape[0]\n",
    "num_neurons = 97\n",
    "\n",
    "# contains the firing rates for all neurons on all 8 x 91 trials in the training set\n",
    "traindata_arr = np.zeros((num_class, num_traindata, num_neurons))\n",
    "# for the testing set\n",
    "testdata_arr = np.zeros((num_class, num_testdata, num_neurons))\n",
    "\n",
    "for class_idx in range(num_class):\n",
    "    for traindata_idx in range(num_traindata):\n",
    "        traindata_arr[class_idx, traindata_idx, :] = np.sum(\n",
    "            data[\"train_trial\"][traindata_idx, class_idx][1][:, 350:550], axis=1\n",
    "        )\n",
    "    for testdata_idx in range(num_testdata):\n",
    "        testdata_arr[class_idx, testdata_idx, :] = np.sum(\n",
    "            data[\"test_trial\"][testdata_idx, class_idx][1][:, 350:550], axis=1\n",
    "        )\n"
   ]
  },
  {
   "cell_type": "code",
   "execution_count": 2,
   "id": "831b8d7f",
   "metadata": {},
   "outputs": [],
   "source": [
    "classes = np.arange(0, 8)\n",
    "X_train = traindata_arr.reshape(-1, num_neurons)\n",
    "y_train = np.repeat(classes, num_traindata)\n",
    "X_test = testdata_arr.reshape(-1, num_neurons)\n",
    "y_test = np.repeat(classes, num_testdata)"
   ]
  },
  {
   "cell_type": "code",
   "execution_count": 4,
   "id": "52f92479",
   "metadata": {},
   "outputs": [
    {
     "ename": "IndentationError",
     "evalue": "unindent does not match any outer indentation level (<tokenize>, line 27)",
     "output_type": "error",
     "traceback": [
      "\u001b[0;36m  File \u001b[0;32m\"<tokenize>\"\u001b[0;36m, line \u001b[0;32m27\u001b[0m\n\u001b[0;31m    k = np.argmax(prob_x_given_cks)\u001b[0m\n\u001b[0m    ^\u001b[0m\n\u001b[0;31mIndentationError\u001b[0m\u001b[0;31m:\u001b[0m unindent does not match any outer indentation level\n"
     ]
    }
   ],
   "source": [
    " class GaussianSharedCovarianceClassifier: def __init__(self, classes: np.ndarray):\n",
    "self.classes = classes\n",
    "self.pi = None\n",
    "self.means = None\n",
    "self.cov = None\n",
    "self.D = -1 # number of elements in datapoint self.K = self.classes.size # number of classes\n",
    "def fit(self, X: np.ndarray, y: np.ndarray) -> None: N = y.size\n",
    "self.D = X.shape[1]\n",
    "self.pi = np.empty(self.K)\n",
    "class_idxs = np.empty(self.K, dtype=object) self.means = np.empty((self.K, self.D)) for idx, ck in enumerate(self.classes):\n",
    "            self.pi[idx] = np.count_nonzero(y == ck) / N\n",
    "            class_idxs[idx] = np.where(y == ck)\n",
    "            self.means[idx] = np.mean(X[class_idxs[idx]], axis=0)\n",
    "self.cov = np.cov(X, rowvar=False)\n",
    "def predict(self, X: np.ndarray) -> np.ndarray: y_pred = np.empty(X.shape[0])\n",
    "for instance_idx, x in enumerate(X):\n",
    "prob_x_given_cks = np.empty(self.K) for class_idx in range(self.K):\n",
    "                mean = self.means[class_idx]\n",
    "                cov = self.cov\n",
    "                prob_x_given_cks[class_idx] = (\n",
    "                    mean.T @ np.linalg.inv(cov) @ x\n",
    "                    - 0.5 * mean @ np.linalg.inv(cov) @ mean\n",
    "                    + np.log(self.pi[class_idx])\n",
    "                    - 0.5 * x.T @ np.linalg.inv(cov) @ x\n",
    "                    - 0.5 * np.log(np.linalg.det(cov))\n",
    "                )\n",
    "            k = np.argmax(prob_x_given_cks)\n",
    "            y_pred[instance_idx] = self.classes[k]\n",
    "return y_pred"
   ]
  },
  {
   "cell_type": "code",
   "execution_count": null,
   "id": "c5c4ac07",
   "metadata": {},
   "outputs": [],
   "source": []
  }
 ],
 "metadata": {
  "kernelspec": {
   "display_name": "Python 3",
   "language": "python",
   "name": "python3"
  },
  "language_info": {
   "codemirror_mode": {
    "name": "ipython",
    "version": 3
   },
   "file_extension": ".py",
   "mimetype": "text/x-python",
   "name": "python",
   "nbconvert_exporter": "python",
   "pygments_lexer": "ipython3",
   "version": "3.8.8"
  }
 },
 "nbformat": 4,
 "nbformat_minor": 5
}

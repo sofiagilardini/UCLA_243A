{
 "cells": [
  {
   "cell_type": "markdown",
   "metadata": {},
   "source": [
    "## Homework 4, Problem 3 Classification on simulated data\n",
    "\n",
    "ECE C143A/C243A, Spring Quarter 2023, Prof. J.C. Kao, TAs T. Monsoor, R. Gore, D. Singla"
   ]
  },
  {
   "cell_type": "markdown",
   "metadata": {},
   "source": [
    "## Background\n",
    "We will now apply the results of Problems 1 and 2 to simulated data. The dataset can be found on BruinLearn as ps4_simdata.mat. \n",
    "\n",
    "The following describes the data format. The .mat file has a single variable named 'trial', which is a structure of dimensions (20 data points) × (3 classes). The nth data point for the kth class is denoted via:\n",
    "\n",
    "`data['trial'][n][k][0]` where n = 0,...,19 and k = 0,1,2 are the data points and classes respectively.  The `[0]` after `[n][k]` is an artifact of how the `.mat` file is imported into Python.  You can get a clearer sense of this below in the plotting scripts.\n",
    "\n",
    "To make the simulated data as realistic as possible, the data are non-negative integers, so one can think of them as spike counts. With this analogy, there are D = 2 neurons and K = 3 stimulus conditions.\n",
    "\n",
    "Please follow steps (a)–(e) below for each of the three models. The result of this problem should be three separate plots, one for each model. These plots will be similar in spirit to Figure 4.5 in PRML."
   ]
  },
  {
   "cell_type": "code",
   "execution_count": 53,
   "metadata": {
    "collapsed": true
   },
   "outputs": [
    {
     "name": "stdout",
     "output_type": "stream",
     "text": [
      "The autoreload extension is already loaded. To reload it, use:\n",
      "  %reload_ext autoreload\n"
     ]
    }
   ],
   "source": [
    "import numpy as np\n",
    "import matplotlib.pyplot as plt\n",
    "import scipy.special\n",
    "import scipy.io as sio\n",
    "import math\n",
    "\n",
    "# Load matplotlib images inline\n",
    "%matplotlib inline\n",
    "\n",
    "# Reloading any code written in external .py files.\n",
    "%load_ext autoreload\n",
    "%autoreload 2\n",
    "\n",
    "data = sio.loadmat('ps4_simdata.mat') # load the .mat file.\n",
    "NumData = data['trial'].shape[0]\n",
    "NumClass = data['trial'].shape[1]"
   ]
  },
  {
   "cell_type": "markdown",
   "metadata": {},
   "source": [
    "### (a) Plot the data points\n",
    "\n",
    "Here, to get you oriented on the dataset, we'll give you code that plots the data points.  You do not have to write any new code here, but you should review this code to understand it, since we'll ask you to make plots in later parts of the notebook.\n",
    "\n",
    "Here, we plot the data points in a two-dimensional space. For classes k = 1, 2, 3, we use a red ×, green +, and blue ∗ for each data point, respectively. The axis limits of the plot are between 0 and 20.  You should use these axes bounds for the rest of the homework."
   ]
  },
  {
   "cell_type": "code",
   "execution_count": 54,
   "metadata": {
    "collapsed": true
   },
   "outputs": [
    {
     "data": {
      "text/plain": [
       "Text(0, 0.5, 'x_2')"
      ]
     },
     "execution_count": 54,
     "metadata": {},
     "output_type": "execute_result"
    },
    {
     "data": {
      "image/png": "[encoded data removed]",
      "text/plain": [
       "<Figure size 504x504 with 1 Axes>"
      ]
     },
     "metadata": {
      "needs_background": "light"
     },
     "output_type": "display_data"
    }
   ],
   "source": [
    "# a\n",
    "plt.figure(figsize=(7,7))\n",
    "#====================================================#\n",
    "# PLOTTING CODE BELOW\n",
    "#====================================================#\n",
    "dataArr =  np.zeros((NumClass,NumData ,2)) # dataArr contains the points\n",
    "for classIX in range(NumClass):\n",
    "    for dataIX in range(NumData):\n",
    "        x = data['trial'][dataIX,classIX][0][0][0]\n",
    "        y = data['trial'][dataIX,classIX][0][1][0]        \n",
    "        dataArr[classIX,dataIX,0]=x\n",
    "        dataArr[classIX,dataIX,1]=y\n",
    "MarkerPat=np.array(['rx','g+','b*'])\n",
    "\n",
    "for classIX in range(NumClass):\n",
    "    for dataIX in range(NumData):\n",
    "        plt.plot(dataArr[classIX,dataIX,0],dataArr[classIX,dataIX,1],MarkerPat[classIX])\n",
    "\n",
    "#====================================================#\n",
    "# END PLOTTING CODE\n",
    "#====================================================# \n",
    "plt.axis([0,20,0,20])\n",
    "plt.xlabel('x_1')\n",
    "plt.ylabel('x_2')"
   ]
  },
  {
   "cell_type": "code",
   "execution_count": 43,
   "metadata": {},
   "outputs": [
    {
     "name": "stdout",
     "output_type": "stream",
     "text": [
      "[[[ 9.  4.]\n",
      "  [ 7.  3.]\n",
      "  [ 7.  4.]\n",
      "  [ 7.  6.]\n",
      "  [ 6.  4.]\n",
      "  [10. 12.]\n",
      "  [17. 11.]\n",
      "  [10.  5.]\n",
      "  [16.  2.]\n",
      "  [17.  5.]\n",
      "  [ 6.  6.]\n",
      "  [13.  6.]\n",
      "  [ 9.  3.]\n",
      "  [15.  5.]\n",
      "  [ 6.  9.]\n",
      "  [14.  9.]\n",
      "  [22.  6.]\n",
      "  [ 5.  5.]\n",
      "  [10.  4.]\n",
      "  [ 9.  2.]]\n",
      "\n",
      " [[ 9.  7.]\n",
      "  [ 6. 10.]\n",
      "  [ 5. 17.]\n",
      "  [ 8.  9.]\n",
      "  [ 8. 14.]\n",
      "  [13. 13.]\n",
      "  [10.  4.]\n",
      "  [17.  3.]\n",
      "  [ 6. 13.]\n",
      "  [13.  8.]\n",
      "  [ 9. 14.]\n",
      "  [13. 14.]\n",
      "  [10. 18.]\n",
      "  [ 7. 10.]\n",
      "  [ 5.  9.]\n",
      "  [10. 10.]\n",
      "  [13.  8.]\n",
      "  [12.  6.]\n",
      "  [10.  6.]\n",
      "  [ 8.  9.]]\n",
      "\n",
      " [[ 6.  7.]\n",
      "  [ 0.  6.]\n",
      "  [ 7. 16.]\n",
      "  [ 5.  5.]\n",
      "  [ 6.  6.]\n",
      "  [ 4.  5.]\n",
      "  [ 4.  5.]\n",
      "  [ 2.  5.]\n",
      "  [ 5. 11.]\n",
      "  [ 2.  7.]\n",
      "  [ 2. 15.]\n",
      "  [ 2. 11.]\n",
      "  [ 8. 17.]\n",
      "  [ 7. 12.]\n",
      "  [ 6.  8.]\n",
      "  [ 7.  5.]\n",
      "  [ 0.  7.]\n",
      "  [ 4. 12.]\n",
      "  [ 6.  9.]\n",
      "  [ 3. 11.]]]\n"
     ]
    }
   ],
   "source": [
    "print(dataArr)"
   ]
  },
  {
   "cell_type": "code",
   "execution_count": 55,
   "metadata": {},
   "outputs": [
    {
     "name": "stdout",
     "output_type": "stream",
     "text": [
      "Mu_k matrix is [[10.75  5.55]\n",
      " [ 9.6  10.1 ]\n",
      " [ 4.3   9.  ]]\n",
      "Shared covariance matrix is [[12.60964912 -0.0254386 ]\n",
      " [-0.0254386  13.17105263]]\n"
     ]
    }
   ],
   "source": [
    "#dataArr[0] gets me the first class\n",
    "#print(dataArr[0])\n",
    "#dataArr[0][0] gets me the first element of the first class\n",
    "\n",
    "c1 = dataArr[0]\n",
    "\n",
    "# first point, P(c1) = P(c2) = P(c3) because we have the same number of data points within each class\n",
    "# i.e P(c_k) = 1./3 - say this is np.array((0.33, 0.33, 0.34))\n",
    "\n",
    "\n",
    "# this is global across all of the models \n",
    "\n",
    "# for mu_k, I have a fixed scaling factor which is 1/20 (1 / NumData) and then I have the sum over all x's and separately all y's to get that ['mean'] is an np.array of size (3,2) containing the class means. -- given this shape, row1 is the mean for class 1, row2, mean for class 2 etc. therefore \n",
    "# mu_arr[0] = mu for class k \n",
    "\n",
    "## test\n",
    "\n",
    "testarraymu = np.array([[1, 2],[3, 4], [5, 6]])\n",
    "mu_k = np.zeros((3,2))\n",
    "\n",
    "#print(testarraymu[0])\n",
    "\n",
    "# try and get just the x elements\n",
    "\n",
    "##### print(testarraymu[:,0])\n",
    "\n",
    "## this works. \n",
    "\n",
    "# get the means for each class \n",
    "\n",
    "# figure out how to get only the x elements for the data: \n",
    "\n",
    "# print(dataArr[0])\n",
    "# print(dataArr[0][:, 0])\n",
    "\n",
    "# this works. \n",
    "# print(dataArr[0][:, 0]) gets me all the x elements for my dataset. I have to find the mean of these. print(dataArr[k][:, n]) I have to loop over (k) and then over (n) for k classes and n data points. kth element will be tewstarraymu[k][0] (i.e the first column... which represents the x axis)\n",
    "\n",
    "for k in range(NumClass): \n",
    "        mu_k[k][0] = np.mean(dataArr[k][:, 0])\n",
    "        mu_k[k][1] = np.mean(dataArr[k][:, 1])\n",
    "\n",
    "print(f\"Mu_k matrix is {mu_k}\")\n",
    "\n",
    "# need to calculate the covariance matrix for each class and then take the mean across them\n",
    "\n",
    "# I am going to have a for loop which calculates the covariance matrix for each class, and adds it to cov_tot, which I will then divide by k \n",
    "# I want covariance between dataArr[k][:, 0] and dataArr[k][:, 1]\n",
    "# np.cov(takes a y array where variables are organised by rows, so I am going to take the transpose)\n",
    "\n",
    "cov_matrix_total = np.zeros((2, 2))\n",
    "\n",
    "for k in range(NumClass):\n",
    "        dataArr_Tr = dataArr[k].T\n",
    "        cov_matr_temp = np.cov(dataArr_Tr)\n",
    "        cov_matrix_total += cov_matr_temp\n",
    "\n",
    "cov_matrix = cov_matrix_total / 3\n",
    "print(f\"Shared covariance matrix is {cov_matrix}\")\n",
    "\n",
    "\n"
   ]
  },
  {
   "cell_type": "code",
   "execution_count": 56,
   "metadata": {},
   "outputs": [
    {
     "name": "stdout",
     "output_type": "stream",
     "text": [
      "Mu_k matrix is [[10.75  5.55]\n",
      " [ 9.6  10.1 ]\n",
      " [ 4.3   9.  ]]\n",
      "Shared covariance matrix is [[12.60964912 -0.0254386 ]\n",
      " [-0.0254386  13.17105263]]\n",
      "(3,)\n",
      "(3, 2)\n",
      "(2, 2)\n"
     ]
    }
   ],
   "source": [
    "# Model 1 : Gaussian, shared covariance\n",
    "\n",
    "# finding probability of each class\n",
    "P_Ck = np.array((0.33, 0.33, 0.34))\n",
    "\n",
    "# finding the array with the mean for each class\n",
    "for k in range(NumClass): \n",
    "        mu_k[k][0] = np.mean(dataArr[k][:, 0])\n",
    "        mu_k[k][1] = np.mean(dataArr[k][:, 1])\n",
    "\n",
    "print(f\"Mu_k matrix is {mu_k}\")\n",
    "\n",
    "# finding the Covariance matrix for each class, then taking the average \n",
    "m1_cov_matrix_total = np.zeros((2, 2))\n",
    "\n",
    "for k in range(NumClass):\n",
    "        dataArr_Tr = dataArr[k].T\n",
    "        cov_matr_temp = np.cov(dataArr_Tr)\n",
    "        m1_cov_matrix_total += cov_matr_temp\n",
    "\n",
    "m1_cov_matrix = cov_matrix_total / 3\n",
    "print(f\"Shared covariance matrix is {m1_cov_matrix}\")\n",
    "\n",
    "# store these in parameter dictionaries for Model 1 \n",
    "\n",
    "modParam1 = {\"pi\" : P_Ck, \"mean\" : mu_k, \"cov\" : m1_cov_matrix}\n",
    "# check shapes are correct - they are \n",
    "print(np.shape(modParam1[\"pi\"]))\n",
    "print(np.shape(modParam1[\"mean\"]))\n",
    "print(np.shape(modParam1[\"cov\"]))\n"
   ]
  },
  {
   "cell_type": "code",
   "execution_count": 57,
   "metadata": {},
   "outputs": [
    {
     "name": "stdout",
     "output_type": "stream",
     "text": [
      "Class specific covariance matrix is [[[22.09210526  2.25      ]\n",
      "  [ 2.25        7.62894737]]\n",
      "\n",
      " [[10.04210526 -4.95789474]\n",
      "  [-4.95789474 16.62105263]]\n",
      "\n",
      " [[ 5.69473684  2.63157895]\n",
      "  [ 2.63157895 15.26315789]]]\n",
      "(3,)\n",
      "(3, 2)\n",
      "(3, 2, 2)\n"
     ]
    }
   ],
   "source": [
    "# Model 2: Gaussian, class specific covariance \n",
    "\n",
    "m2_cov_matrix = np.zeros((3, 2, 2))\n",
    "\n",
    "for k in range(NumClass):\n",
    "        dataArr_Tr = dataArr[k].T\n",
    "        m2_cov_matrix[k] = np.cov(dataArr_Tr)\n",
    "\n",
    "print(f\"Class specific covariance matrix is {m2_cov_matrix}\")\n",
    "\n",
    "modParam2 = {\"pi\" : P_Ck, \"mean\" : mu_k, \"cov\" : m2_cov_matrix}\n",
    "# check shapes are correct - they are \n",
    "print(np.shape(modParam2[\"pi\"]))\n",
    "print(np.shape(modParam2[\"mean\"]))\n",
    "print(np.shape(modParam2[\"cov\"]))\n",
    "\n"
   ]
  },
  {
   "cell_type": "code",
   "execution_count": 58,
   "metadata": {},
   "outputs": [],
   "source": [
    "# Model 3, Poisson\n",
    "# should the mean be calculated any differently? \n",
    "\n",
    "modParam3 = {\"pi\" : P_Ck, \"mean\" : mu_k}\n"
   ]
  },
  {
   "cell_type": "markdown",
   "metadata": {},
   "source": [
    "### (b) (15 points) Find the ML model parameters\n",
    "Find the ML model parameters, for each model, using results from Problem 1. Report the values of all the ML parameters for each model. (Please print the names and values of all the ML parameters in Jupyter Notebook)"
   ]
  },
  {
   "cell_type": "code",
   "execution_count": 59,
   "metadata": {
    "collapsed": true
   },
   "outputs": [
    {
     "name": "stdout",
     "output_type": "stream",
     "text": [
      "Model 1:\n",
      "Class priors:\n",
      "[0.33 0.33 0.34]\n",
      "Means:\n",
      "[[10.75  5.55]\n",
      " [ 9.6  10.1 ]\n",
      " [ 4.3   9.  ]]\n",
      "Cov:\n",
      "[[12.60964912 -0.0254386 ]\n",
      " [-0.0254386  13.17105263]]\n",
      "model 2:\n",
      "Class priors:\n",
      "[0.33 0.33 0.34]\n",
      "Means:\n",
      "[[10.75  5.55]\n",
      " [ 9.6  10.1 ]\n",
      " [ 4.3   9.  ]]\n",
      "Cov1:\n",
      "[[22.09210526  2.25      ]\n",
      " [ 2.25        7.62894737]]\n",
      "Cov2:\n",
      "[[10.04210526 -4.95789474]\n",
      " [-4.95789474 16.62105263]]\n",
      "Cov3:\n",
      "[[ 5.69473684  2.63157895]\n",
      " [ 2.63157895 15.26315789]]\n",
      "model 3:\n",
      "Class priors:\n",
      "[0.33 0.33 0.34]\n",
      "Lambdas:\n",
      "[[10.75  5.55]\n",
      " [ 9.6  10.1 ]\n",
      " [ 4.3   9.  ]]\n"
     ]
    }
   ],
   "source": [
    "#====================================================#\n",
    "# YOUR CODE HERE:\n",
    "#   Find the parameters for each model you derived in problem 1 using\n",
    "#   the simulated data, and print out the values of each parameter.\n",
    "#\n",
    "#   To facilitate plotting later on, we're going to ask you to \n",
    "#   format the data in the following way.\n",
    "#   \n",
    "#   (1) Keep three dictionaries, modParam1, modParam2, and modParam3\n",
    "#       which contain the model parameters for model 1 (Gaussian, shared cov),\n",
    "#       model 2 (Gaussian, class specific cov), and model 3 (Poisson).\n",
    "#     \n",
    "#       The Python dictionary is like a MATLAB struct. e.g., you can declare:\n",
    "#       modParam1 = {} # declares the dictionary\n",
    "#       modParam1['pi'] = np.array((0.33, 0.33, 0.34)) # sets the field 'pi' to be\n",
    "#         an np.array of size (3,) containing the class probabilities.\n",
    "#\n",
    "#   (2) modParam1 has the following structure\n",
    "#\n",
    "#     modParam1['pi'] is an np.array of size (3,) containing the class probabilities.\n",
    "#     modParam1['mean'] is an np.array of size (3,2) containing the class means.\n",
    "#     modParam1['cov'] is an np.array of size (2,2) containing the shared cov.\n",
    "#\n",
    "#   (3) modParam2: \n",
    "#\n",
    "#     modParam2['pi'] is an np.array of size (3,) containing the class probabilities.\n",
    "#     modParam2['mean'] is an np.array of size (3,2) containing the class means.\n",
    "#     modParam2['cov'] is an np.array of size (3,2,2) containing the cov for each of the 3 classes.\n",
    "#\n",
    "#   (4) modParam3:\n",
    "#     modParam2['pi'] is an np.array of size (3,) containing the class probabilities.\n",
    "#     modParam2['mean'] is an np.array of size (3,2) containing the Poisson parameters for each class.\n",
    "#\n",
    "#   These should be consistent with the print statement after this code block.\n",
    "#\n",
    "#   HINT: the np.mean and np.cov functions ought simplify the code.\n",
    "#\n",
    "#====================================================#\n",
    "\n",
    "\n",
    "#====================================================#\n",
    "# END YOUR CODE\n",
    "#====================================================# \n",
    "\n",
    "# Print out the model parameters\n",
    "print(\"Model 1:\")\n",
    "print(\"Class priors:\")\n",
    "print( modParam1['pi'])\n",
    "print(\"Means:\")\n",
    "print( modParam1['mean'])\n",
    "print(\"Cov:\")\n",
    "print( modParam1['cov'])\n",
    "\n",
    "print(\"model 2:\")\n",
    "print(\"Class priors:\")\n",
    "print( modParam2['pi'])\n",
    "print(\"Means:\")\n",
    "print( modParam2['mean'])\n",
    "print(\"Cov1:\")\n",
    "print( modParam2['cov'][0])\n",
    "print(\"Cov2:\")\n",
    "print( modParam2['cov'][1])\n",
    "print(\"Cov3:\")\n",
    "print( modParam2['cov'][2])\n",
    "\n",
    "print(\"model 3:\")\n",
    "print(\"Class priors:\")\n",
    "print( modParam3['pi'])\n",
    "print(\"Lambdas:\")\n",
    "print( modParam3['mean'])\n"
   ]
  },
  {
   "cell_type": "markdown",
   "metadata": {},
   "source": [
    "### (c) Plot the ML mean\n",
    "\n",
    "The following code plots the ML mean for each class.  You should read the code to understand what is going on.  If you followed our instructions on how to format the data, you should not have to modify any code here.  This plot needs to be generated for us to check if you implemented the means correctly.  You may also use this as a sanity check.\n",
    "\n",
    "*** If you made modifications in the way the data is formatted, you need to change this code to visualize the ML means*** \n",
    "\n",
    "For each class, we plot the ML mean on top of the data using a solid dot of the appropriate color. We set the marker size of this dot to be much larger than the marker sizes you used in part a, so the dot is easy to see."
   ]
  },
  {
   "cell_type": "code",
   "execution_count": 60,
   "metadata": {
    "collapsed": true
   },
   "outputs": [
    {
     "data": {
      "text/plain": [
       "Text(0, 0.5, 'x_2')"
      ]
     },
     "execution_count": 60,
     "metadata": {},
     "output_type": "execute_result"
    },
    {
     "data": {
      "image/png": "[encoded data removed]",
      "text/plain": [
       "<Figure size 504x504 with 1 Axes>"
      ]
     },
     "metadata": {
      "needs_background": "light"
     },
     "output_type": "display_data"
    }
   ],
   "source": [
    "# c\n",
    "plt.figure(figsize=(7,7))\n",
    "#====================================================#\n",
    "# ML MEAN PLOT CODE HERE.\n",
    "#====================================================#\n",
    "colors = ['r.','g.','b.']\n",
    "for classIX in range(NumClass):\n",
    "    for dataIX in range(NumData):\n",
    "        plt.plot(dataArr[classIX,dataIX,0],dataArr[classIX,dataIX,1],MarkerPat[classIX])\n",
    "        plt.plot(modParam1['mean'][classIX,0],modParam1['mean'][classIX,1],colors[classIX],markersize=30)\n",
    "#====================================================#\n",
    "# END CODE\n",
    "#====================================================# \n",
    "plt.axis([0,20,0,20])\n",
    "plt.xlabel('x_1')\n",
    "plt.ylabel('x_2')"
   ]
  },
  {
   "cell_type": "markdown",
   "metadata": {},
   "source": [
    "### (d) Plot the ML covariance ellipsoids.\n",
    "\n",
    "The following code plots the ML covariance for each class.  You should read the code to understand what is going on.  If you followed our instructions on how to format the data, you should not have to modify any code here.  This plot needs to be generated for us to check if you implemented the means correctly.  You may also use this as a sanity check.\n",
    "\n",
    "*** If you made modifications in the way the data is formatted, you need to change this code to visualize the ML covariance ellipsoids*** \n",
    "\n",
    "For each class, we plot the ML covariance using an ellipse of the appropriate color. We plot this on top of the data with the means. This part only encapsulates the Gaussian models i) and ii). We generate separate plots for models i) and ii). \n",
    "\n",
    "We use of `plt.contour` can be used to draw an iso-probability contour for each class. To aid interpretation, the contour should be drawn at the same probability level for each class. We call `plt.contour(X, Y, Z, levels = level, colors = color)`. \n",
    "\n",
    "For this specific problem, we choose the contour level so you can see each ellipsoid reasonably, e.g. levels = 0.007, where X and Y are obtained via `[X,Y] = np.meshgrid(np.linspace(0, 20, N), np.linspace(0, 20, N))`, where N is the number of partitions, e.g. N = 20. Z is the function value, Please set the contour color to be the same as data points color.\n",
    "\n",
    "Please understand this code, as it will facilitate the last part of this notebook where we ask you to generate a plot with classification boundaries.  In prior years we asked the students to generate this, but have provided it here to reduce the homework load."
   ]
  },
  {
   "cell_type": "code",
   "execution_count": 62,
   "metadata": {
    "collapsed": true
   },
   "outputs": [
    {
     "data": {
      "image/png": "[encoded data removed]",
      "text/plain": [
       "<Figure size 504x504 with 1 Axes>"
      ]
     },
     "metadata": {
      "needs_background": "light"
     },
     "output_type": "display_data"
    },
    {
     "data": {
      "image/png": "[encoded data removed]",
      "text/plain": [
       "<Figure size 504x504 with 1 Axes>"
      ]
     },
     "metadata": {
      "needs_background": "light"
     },
     "output_type": "display_data"
    }
   ],
   "source": [
    "# d\n",
    "#====================================================#\n",
    "# ML COV PLOT CODE HERE.\n",
    "#====================================================#\n",
    "colors2 = ['r','g','b']\n",
    "modParam = [modParam1 , modParam2]\n",
    "for modelIX in range(2):\n",
    "    plt.figure(modelIX,figsize=(7,7))\n",
    "    for classIX in range(NumClass):\n",
    "        for dataIX in range(NumData):\n",
    "            #plot the points and their means, just like before\n",
    "            plt.plot(dataArr[classIX,dataIX,0],dataArr[classIX,dataIX,1],MarkerPat[classIX])\n",
    "            plt.plot(modParam[modelIX]['mean'][classIX,0],modParam[modelIX]['mean'][classIX,1],colors[classIX],markersize=30)\n",
    "        plt.axis([0,20,0,20])\n",
    "        plt.xlabel('x_1')\n",
    "        plt.ylabel('x_2')\n",
    "        MarkerCol=['r','g','b']\n",
    "        \n",
    "    #now begins plotting the elipse\n",
    "    for classIX in range(NumClass):\n",
    "        currMean=modParam[modelIX]['mean'][classIX ,:]\n",
    "        if(modelIX == 0):\n",
    "            currCov=modParam[modelIX]['cov']\n",
    "        else:\n",
    "            currCov=modParam[modelIX]['cov'][classIX]\n",
    "        xl = np.linspace(0, 20, 201)\n",
    "        yl = np.linspace(0, 20, 201)\n",
    "        [X,Y] = np.meshgrid(xl,yl)\n",
    "\n",
    "        Xlong = np.reshape(X-currMean[0],(np.prod(np.size(X))))\n",
    "        Ylong = np.reshape(Y-currMean[1],(np.prod(np.size(X))))\n",
    "        temp = np.row_stack([Xlong,Ylong])\n",
    "        Zlong = []\n",
    "        for i in range(np.size(Xlong)):\n",
    "            Zlong.append(np.matmul(np.matmul(temp[:,i], np.linalg.inv(currCov)), temp[:,i].T))\n",
    "        Zlong = np.matrix(Zlong)\n",
    "        Zlong = np.exp(-Zlong/2)/np.sqrt((2*np.pi)*(2*np.pi)*np.linalg.det(currCov))\n",
    "        Z = np.reshape(Zlong,X.shape)\n",
    "        isoThr=[0.007]\n",
    "        plt.contour(X,Y,Z,levels = isoThr,colors = colors2[classIX])\n",
    "#====================================================#\n",
    "# END CODE\n",
    "#====================================================# \n",
    "            \n"
   ]
  },
  {
   "cell_type": "code",
   "execution_count": 116,
   "metadata": {},
   "outputs": [
    {
     "name": "stdout",
     "output_type": "stream",
     "text": [
      "x vector is (0.0, 0.0)\n",
      "index of max k is 1\n",
      "x vector is (5.0, 5.0)\n",
      "index of max k is 0\n",
      "x vector is (10.0, 10.0)\n",
      "index of max k is 0\n",
      "x vector is (15.0, 15.0)\n",
      "index of max k is 0\n",
      "x vector is (20.0, 20.0)\n",
      "index of max k is 0\n",
      "x vector is (0.0, 0.0)\n",
      "index of max k is 0\n",
      "x vector is (5.0, 5.0)\n",
      "index of max k is 0\n",
      "x vector is (10.0, 10.0)\n",
      "index of max k is 0\n",
      "x vector is (15.0, 15.0)\n",
      "index of max k is 0\n",
      "x vector is (20.0, 20.0)\n",
      "index of max k is 1\n",
      "x vector is (0.0, 0.0)\n",
      "index of max k is 1\n",
      "x vector is (5.0, 5.0)\n",
      "index of max k is 1\n",
      "x vector is (10.0, 10.0)\n",
      "index of max k is 1\n",
      "x vector is (15.0, 15.0)\n",
      "index of max k is 1\n",
      "x vector is (20.0, 20.0)\n",
      "index of max k is 1\n"
     ]
    }
   ],
   "source": [
    "# need to find out how to get the kth row of dictionary values\n",
    "\n",
    "#print(modParam1[\"pi\"][0])\n",
    "\n",
    "# so to get the kth class's pi, \n",
    "\n",
    "# for k in range(NumClass):\n",
    "#     print(modParam1['pi'][k])\n",
    "\n",
    "# now find the kth row of the means\n",
    "\n",
    "#print(modParam1[\"mean\"][0, :])\n",
    "\n",
    "# so to get the kth class's mean for neuron 1, 2\n",
    "\n",
    "# for k in range(NumClass):\n",
    "#     print(modParam1[\"mean\"][k, :])\n",
    "\n",
    "# need to take the inverse of the covariance matrix \n",
    "#print(np.linalg.inv(modParam1[\"cov\"]))\n",
    "\n",
    "# try this for a test value x = [0, 1]\n",
    "\n",
    "x_test = [0, 1]\n",
    "\n",
    "k_values = np.zeros(3)\n",
    "\n",
    "N = 5\n",
    "\n",
    "x_vect = np.zeros(2)\n",
    "\n",
    "[X,Y] = np.meshgrid(np.linspace(0, 20, N), np.linspace(0, 20, N))\n",
    "\n",
    "\n",
    "for k in range(NumClass):\n",
    "    for i in range(N):\n",
    "        # print(\"an x value\", ([X])[0][0][i])\n",
    "        # print(\"a y value\", ([Y])[0][i][0])\n",
    "        x1 = [X][0][0][i]\n",
    "        x2 = [Y][0][i][0]\n",
    "        x_vect = x1, x2\n",
    "        print(\"x vector is\", x_vect)\n",
    "\n",
    "        k_values[k] = np.log(modParam1['pi'][k]) + (modParam1[\"mean\"][k, :]).T @ np.linalg.inv(modParam1[\"cov\"]) @ x_vect\n",
    "        print(\"index of max k is\", np.argmax(k_values))\n",
    "\n",
    "\n",
    "\n",
    "\n",
    "\n",
    "\n",
    "    \n"
   ]
  },
  {
   "cell_type": "code",
   "execution_count": 73,
   "metadata": {},
   "outputs": [
    {
     "name": "stdout",
     "output_type": "stream",
     "text": [
      "(2,)\n",
      "(2,)\n"
     ]
    }
   ],
   "source": [
    "print(np.shape(modParam1[\"mean\"][0]))\n",
    "print(np.shape(modParam1[\"mean\"][0].T))\n",
    "\n"
   ]
  },
  {
   "cell_type": "markdown",
   "metadata": {},
   "source": [
    "### (e) (15 points) Plot multi-class decision boundaries\n",
    "Plot multi-class decision boundaries corresponding to the decision rule \n",
    "\\begin{align}            \n",
    "    \\hat{k }=argmax_{k} \\ P(C_{k}|x)\n",
    "\\end{align}\n",
    "and label each decision region with the appropriate class k. This should be plotted on top of your means and the covariance ellipsoids. Thus, you should start by copying and pasting code from the prior Jupyter Notebook cell.\n",
    "\n",
    "To plot the multi-class decision boundaries, we recommend that you do it by classifying a dense sampling of the two-dimensional data space.\n",
    "\n",
    "Hint 1: You can do this by calling `[X,Y] = np.meshgrid(np.linspace(0, 20, N), np.linspace(0, 20, N))` to partition the space as done in the previous section, and then classifying each of these points.  N should be large; in our solution, we use N = 81.  Then at each of these points, draw a dot of the color of the classified class.\n",
    "\n",
    "Hint 2: You can check that you’ve done this properly by verifying that the decision boundaries pass through the intersection points of the contours drawn in part (d).\n",
    "\n",
    "Hint 3: It's a good idea to do this one model at a time. You should get things working for model 1 for a smaller `N` value, so in code development, it doesn't take a long time to test your code.  In the final result, your code will probably take some time to run because you're classifying each data point in a dense grid for each model.  "
   ]
  },
  {
   "cell_type": "code",
   "execution_count": null,
   "metadata": {
    "collapsed": true
   },
   "outputs": [],
   "source": [
    "#e\n",
    "#====================================================#\n",
    "# YOUR CODE HERE:\n",
    "#   Plot the data points, their means, covariance ellipsoids,\n",
    "#     and decision boundaries for each model.\n",
    "#   Note that the naive Bayes Poisson model does not have an ellipsoid.\n",
    "#   As in the above description, the decision boundary should be achieved\n",
    "#     by densely classifying points in a grid.\n",
    "#====================================================#\n",
    "\n",
    "#====================================================#\n",
    "# END YOUR CODE\n",
    "#====================================================#     "
   ]
  }
 ],
 "metadata": {
  "kernelspec": {
   "display_name": "base",
   "language": "python",
   "name": "python3"
  },
  "language_info": {
   "codemirror_mode": {
    "name": "ipython",
    "version": 3
   },
   "file_extension": ".py",
   "mimetype": "text/x-python",
   "name": "python",
   "nbconvert_exporter": "python",
   "pygments_lexer": "ipython3",
   "version": "3.8.8"
  },
  "vscode": {
   "interpreter": {
    "hash": "b09acc547dda0abba2c23fcb8d82975ee324aece1a65962f9bf2d993acca7b61"
   }
  }
 },
 "nbformat": 4,
 "nbformat_minor": 2
}

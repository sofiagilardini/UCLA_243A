{
 "cells": [
  {
   "cell_type": "markdown",
   "metadata": {},
   "source": [
    "## Homework 4, Problem 4 Classification on real data\n",
    "\n",
    "ECE C143A/C243A, Spring Quarter 2023, Prof. J.C. Kao, TAs T. Monsoor, R. Gore, D. Singla"
   ]
  },
  {
   "cell_type": "markdown",
   "metadata": {},
   "source": [
    "## Background\n",
    "Neural prosthetic systems can be built based on classifying neural activity related to planning. As described in class, this is analogous to mapping patterns of neural activity to keys on a keyboard.\n",
    "In this problem, we will apply the results of Problems 1 and 2 to real neural data. The neural data were recorded using a 100-electrode array in premotor cortex of a macaque monkey1. The dataset can be found on BruinLearn as `ps4_realdata.mat`.\n",
    "\n",
    "The following describes the data format. The `.mat` file is loaded into Python as a dictionary with two keys: `train_trial` contains the training data and `test_trial` contains the test data. Each of these contains spike trains recorded simultaneously from 97 neurons while the monkey reached 91 times along each of 8 different reaching angles.\n",
    "\n",
    "The spike train recorded from the $i_{th}$ neuron on the $n_{th}$ trial of the $k_{th}$ reaching angle is accessed as \n",
    "\n",
    "`data['train_trial'][n,k][1][i,:]`\n",
    "\n",
    "where n = 0,...,90, k = 0,...,7, and i = 0, . . . , 96.  The [1] in between [n,k] and [i,:] does not mean anything for this assignment and is simply an \"artifact\" of how the data is structured. A spike train is represented as a sequence of zeros and ones, where time is discretized in 1 ms steps. A zero indicates that the neuron did not spike in the 1 ms bin, whereas a one indicates that the neuron spiked once in the 1 ms bin. The structure test trial has the same format as train trial.\n",
    "\n",
    "Each spike train is 700 ms long (and thus represented by an array of length 700).  This comprises a 200ms baseline period (before the reach target turned on), a 500ms planning period (after the reach target turned on).  Because it takes time for information about the reach target to arrive in premotor cortex (due to the time required for action potentials to propagate and for visual processing), we will ignore the first 150ms of the planning period.  *** FOR THIS PROBLEM, we will take spike counts for each neuron within a single 200ms bin starting 150ms after the reach target turns on. ***\n",
    "\n",
    "In other words, to calculate firing rates, you will calculate it over the 200ms window: \n",
    "\n",
    "`data['train_trial'][n,k][1][i,350:550]`"
   ]
  },
  {
   "cell_type": "code",
   "execution_count": 24,
   "metadata": {
    "collapsed": true
   },
   "outputs": [
    {
     "name": "stdout",
     "output_type": "stream",
     "text": [
      "The autoreload extension is already loaded. To reload it, use:\n",
      "  %reload_ext autoreload\n"
     ]
    }
   ],
   "source": [
    "import numpy as np\n",
    "import numpy.matlib as npm\n",
    "import matplotlib.pyplot as plt\n",
    "import scipy.special\n",
    "import scipy.io as sio\n",
    "import math\n",
    "\n",
    "data = sio.loadmat('ps4_realdata.mat') # load the .mat file.\n",
    "NumTrainData = data['train_trial'].shape[0]\n",
    "NumClass = data['train_trial'].shape[1]\n",
    "NumTestData = data['test_trial'].shape[0]\n",
    "\n",
    "# Reloading any code written in external .py files.\n",
    "%load_ext autoreload\n",
    "%autoreload 2"
   ]
  },
  {
   "cell_type": "markdown",
   "metadata": {},
   "source": [
    "### (a) (8 points) \n",
    "Fit the ML parameters of model i) to the training data (91 × 8 observations of a length 97 array of neuron firing rates). \n",
    "\n",
    "To calculate the firing rates, use a single 200ms bin starting from 150ms after the target turns on.  This corresponds to using `data['train_trial'][n,k][1][i, 350:550]` to calculate all firing rates.  This corresponds to a 200ms window that turns on 150ms after the reach turns on.\n",
    "\n",
    "Then, use these parameters to classify the test data (91 × 8 data points) according to the decision rule (1). What is the percent of test data points correctly classified?"
   ]
  },
  {
   "cell_type": "code",
   "execution_count": 46,
   "metadata": {
    "collapsed": true
   },
   "outputs": [
    {
     "name": "stdout",
     "output_type": "stream",
     "text": [
      "[0.125 0.125 0.125 0.125 0.125 0.125 0.125 0.125]\n",
      "(97, 97)\n",
      "testdata [ 3.  2.  1.  1.  3.  1.  1.  5.  0.  0.  0.  0.  0.  2.  1.  2.  1.  2.\n",
      "  1.  2.  3.  1. 13.  0.  0.  3.  2.  0.  1.  3.  0.  0.  1.  5.  3.  0.\n",
      "  0.  0.  6.  1.  0.  1.  0.  2.  1.  7.  0.  1.  0.  1.  0.  4.  1.  0.\n",
      "  0.  0.  3.  2.  0.  2.  3.  1.  2.  0.  0.  0.  4.  0.  3.  0.  1.  0.\n",
      "  0.  0.  0.  2.  2.  0.  1.  0.  2.  1.  4.  6.  0.  7.  2.  0.  1.  1.\n",
      "  2.  2.  0.  0. 12.  0.  6.]\n",
      "(97,)\n",
      "total is 728\n",
      "accuracy is 0.33379120879120877\n"
     ]
    }
   ],
   "source": [
    "##4a\n",
    "\n",
    "# Calculate the firing rates.\n",
    "\n",
    "trainDataArr =  np.zeros((NumClass,NumTrainData,97)) # contains the firing rates for all neurons on all 8 x 91 trials in the training set\n",
    "testDataArr =  np.zeros((NumClass,NumTestData,97)) # for the testing set.\n",
    "\n",
    "for classIX in range(NumClass):\n",
    "    for trainDataIX in range(NumTrainData):   \n",
    "        trainDataArr[classIX,trainDataIX,:] = np.sum(data['train_trial'][trainDataIX,classIX][1][:,350:550],1)\n",
    "    for testDataIX in range(NumTestData):        \n",
    "        testDataArr[classIX,testDataIX,:]=np.sum(data['test_trial'][testDataIX,classIX][1][:,350:550],1)\n",
    "#====================================================#\n",
    "# YOUR CODE HERE:\n",
    "#   Fit the ML parameters of model i) to training data\n",
    "\n",
    "P_ck = np.full(8, 1/8)\n",
    "print(P_ck)\n",
    "\n",
    "\n",
    "m1mean_array = np.zeros((NumClass, 97))\n",
    "for i in range(NumClass):\n",
    "    for j in range(97):\n",
    "        m1mean_array[i][j] = np.mean(trainDataArr[i, :, j])\n",
    "\n",
    "\n",
    "m1cov_matrix = np.cov(trainDataArr.reshape(-1, 97).T)\n",
    "print(m1cov_matrix.shape)\n",
    "\n",
    "modParam1 = {\"pi\": P_ck, \"mean\" : m1mean_array, \"cov\" : m1cov_matrix}\n",
    "\n",
    "\n",
    "\n",
    "#====================================================#\n",
    "# END YOUR CODE\n",
    "#====================================================# \n",
    "\n",
    "#====================================================#\n",
    "# YOUR CODE HERE:\n",
    "#   Classify the test data and print the accuracy\n",
    "\n",
    "print(\"testdata\", testDataArr[0][:][0])\n",
    "print(testDataArr[0,1].shape) # (97,) is the correct shape \n",
    "\n",
    "# I need to take element testDataArr[k][i] and iterate over all k and all i's. and then pass this through my function for probability - to see if I get the same k \n",
    "\n",
    "k_values = np.zeros(NumClass)\n",
    "correct = 0\n",
    "total = 0\n",
    "\n",
    "for k in range(NumClass):\n",
    "    for i in range(91): \n",
    "        x_vect = testDataArr[k][i]\n",
    "        k_values[k] = np.log(modParam1['pi'][k]) + (modParam1[\"mean\"][k, :]).T @ np.linalg.inv(modParam1[\"cov\"]) @ x_vect - (1/2)*(modParam1[\"mean\"][k, :]).T @ np.linalg.inv(modParam1[\"cov\"]) @ (modParam1[\"mean\"][k, :])\n",
    "        k_max = np.argmax(k_values)\n",
    "        total += 1\n",
    "        if (k_max == k):\n",
    "            correct += 1\n",
    "\n",
    "accuracy = correct / total\n",
    "\n",
    "print(\"total is\", total)\n",
    "print(\"accuracy is\", accuracy)\n",
    "\n",
    "\n",
    "#====================================================#\n",
    "\n",
    "#====================================================#\n",
    "# END YOUR CODE\n",
    "#====================================================# \n"
   ]
  },
  {
   "cell_type": "markdown",
   "metadata": {},
   "source": [
    "#### Question:\n",
    "What is the percent of test data points correctly classified?"
   ]
  },
  {
   "attachments": {},
   "cell_type": "markdown",
   "metadata": {},
   "source": [
    "#### Your answer: \n",
    "33%\n"
   ]
  },
  {
   "cell_type": "markdown",
   "metadata": {},
   "source": [
    "### (b) (6 points) \n",
    "Repeat part (a) for model ii). You `should encounter a Python error` when classifying the test data. What is this error? Why did the Python error occur? What would we need to do to correct this error?\n",
    "\n",
    "To be concrete, the output of this cell should be a `Python error` and that's all fine.  But we want you to understand what the error is so we can fix it later.\n"
   ]
  },
  {
   "cell_type": "code",
   "execution_count": 49,
   "metadata": {
    "collapsed": true
   },
   "outputs": [
    {
     "name": "stdout",
     "output_type": "stream",
     "text": [
      "(91, 97)\n"
     ]
    },
    {
     "ename": "ValueError",
     "evalue": "could not broadcast input array from shape (91,91) into shape (97,97)",
     "output_type": "error",
     "traceback": [
      "\u001b[0;31m---------------------------------------------------------------------------\u001b[0m",
      "\u001b[0;31mValueError\u001b[0m                                Traceback (most recent call last)",
      "\u001b[0;32m<ipython-input-49-ce3b5e29ed57>\u001b[0m in \u001b[0;36m<module>\u001b[0;34m\u001b[0m\n\u001b[1;32m     11\u001b[0m         \u001b[0mtrainDataArr_Tr\u001b[0m \u001b[0;34m=\u001b[0m \u001b[0mtrainDataArr\u001b[0m\u001b[0;34m[\u001b[0m\u001b[0mk\u001b[0m\u001b[0;34m]\u001b[0m\u001b[0;34m\u001b[0m\u001b[0;34m\u001b[0m\u001b[0m\n\u001b[1;32m     12\u001b[0m         \u001b[0mprint\u001b[0m\u001b[0;34m(\u001b[0m\u001b[0mtrainDataArr_Tr\u001b[0m\u001b[0;34m.\u001b[0m\u001b[0mshape\u001b[0m\u001b[0;34m)\u001b[0m\u001b[0;34m\u001b[0m\u001b[0;34m\u001b[0m\u001b[0m\n\u001b[0;32m---> 13\u001b[0;31m         \u001b[0mm2_cov_matrix\u001b[0m\u001b[0;34m[\u001b[0m\u001b[0mk\u001b[0m\u001b[0;34m]\u001b[0m \u001b[0;34m=\u001b[0m \u001b[0mnp\u001b[0m\u001b[0;34m.\u001b[0m\u001b[0mcov\u001b[0m\u001b[0;34m(\u001b[0m\u001b[0mtrainDataArr_Tr\u001b[0m\u001b[0;34m,\u001b[0m \u001b[0mbias\u001b[0m \u001b[0;34m=\u001b[0m \u001b[0;32mTrue\u001b[0m\u001b[0;34m)\u001b[0m\u001b[0;34m\u001b[0m\u001b[0;34m\u001b[0m\u001b[0m\n\u001b[0m\u001b[1;32m     14\u001b[0m \u001b[0;34m\u001b[0m\u001b[0m\n\u001b[1;32m     15\u001b[0m \u001b[0mprint\u001b[0m\u001b[0;34m(\u001b[0m\u001b[0;34mf\"Class specific covariance matrix is {m2_cov_matrix}\"\u001b[0m\u001b[0;34m)\u001b[0m\u001b[0;34m\u001b[0m\u001b[0;34m\u001b[0m\u001b[0m\n",
      "\u001b[0;31mValueError\u001b[0m: could not broadcast input array from shape (91,91) into shape (97,97)"
     ]
    }
   ],
   "source": [
    "##4b\n",
    "\n",
    "#====================================================#\n",
    "# YOUR CODE HERE:\n",
    "# Fit the ML parameters of model ii) to training data\n",
    "#====================================================#\n",
    "\n",
    "m2_cov_matrix = np.zeros((8, 97, 97))\n",
    "\n",
    "for k in range(NumClass):\n",
    "        trainDataArr_Tr = trainDataArr[k].T\n",
    "        m2_cov_matrix[k] = np.cov(trainDataArr_Tr, bias = True)\n",
    "\n",
    "print(f\"Class specific covariance matrix is {m2_cov_matrix}\")\n",
    "\n",
    "modParam2 = {\"pi\" : P_ck, \"mean\" : m1mean_array, \"cov\" : m2_cov_matrix}\n",
    "# check shapes are correct - they are \n",
    "print(np.shape(modParam2[\"pi\"]))\n",
    "print(np.shape(modParam2[\"mean\"]))\n",
    "print(np.shape(modParam2[\"cov\"]))\n",
    "\n",
    "\n",
    "#====================================================#\n",
    "# END YOUR CODE\n",
    "#====================================================# \n"
   ]
  },
  {
   "cell_type": "markdown",
   "metadata": {},
   "source": [
    "#### Question:\n",
    "Why did the python error occur? What would we need to do to correct this error?"
   ]
  },
  {
   "cell_type": "markdown",
   "metadata": {},
   "source": [
    "#### Your answer:  \n"
   ]
  },
  {
   "cell_type": "markdown",
   "metadata": {},
   "source": [
    "### (c) (8 points) \n",
    "Correct the problem from part (b) by detecting and then removing offending neurons that cause the error. Now, what is the percent of test data points correctly classified? Is it higher or lower than your answer to part (a)? Why might this be?"
   ]
  },
  {
   "cell_type": "code",
   "execution_count": null,
   "metadata": {
    "collapsed": true
   },
   "outputs": [],
   "source": [
    "##4c\n",
    "neuronsToRemove = []\n",
    "#====================================================#\n",
    "# YOUR CODE HERE:\n",
    "#   Detect and then remove the offending neurons, so that \n",
    "#   you no longer run into the bug in part (b).\n",
    "#====================================================#\n",
    "\n",
    "#====================================================#\n",
    "# END YOUR CODE\n",
    "#====================================================# \n",
    "##\n",
    "#====================================================#\n",
    "# YOUR CODE HERE:\n",
    "# Fit the ML parameters,classify the test data and print the accuracy\n",
    "#====================================================#\n",
    "\n",
    "#====================================================#\n",
    "# END YOUR CODE\n",
    "#====================================================# "
   ]
  },
  {
   "cell_type": "markdown",
   "metadata": {},
   "source": [
    "#### Question:\n",
    "What is the percent of test data points correctly classified? Is it higher or lower than your answer to part (a)? Why might this be?"
   ]
  },
  {
   "cell_type": "markdown",
   "metadata": {},
   "source": [
    "#### Your answer:  \n"
   ]
  },
  {
   "cell_type": "markdown",
   "metadata": {},
   "source": [
    "### (d) (8 points) \n",
    "Now we classify using a naive Bayes model. Repeat part (a) for model iii). Keep the convention in part (c), where offending neurons were removed from the anal- ysis."
   ]
  },
  {
   "cell_type": "code",
   "execution_count": null,
   "metadata": {
    "collapsed": true
   },
   "outputs": [],
   "source": [
    "##4d\n",
    "#====================================================#\n",
    "# YOUR CODE HERE:\n",
    "# Fit the ML parameters,classify the test data and print the accuracy\n",
    "#====================================================#\n",
    "\n",
    "#====================================================#\n",
    "# END YOUR CODE\n",
    "#====================================================# "
   ]
  },
  {
   "cell_type": "markdown",
   "metadata": {},
   "source": [
    "#### Question:\n",
    "what is the percent of test data points correctly classified? "
   ]
  },
  {
   "cell_type": "markdown",
   "metadata": {},
   "source": [
    "#### Your answer: \n"
   ]
  }
 ],
 "metadata": {
  "kernelspec": {
   "display_name": "base",
   "language": "python",
   "name": "python3"
  },
  "language_info": {
   "codemirror_mode": {
    "name": "ipython",
    "version": 3
   },
   "file_extension": ".py",
   "mimetype": "text/x-python",
   "name": "python",
   "nbconvert_exporter": "python",
   "pygments_lexer": "ipython3",
   "version": "3.8.8"
  },
  "vscode": {
   "interpreter": {
    "hash": "b09acc547dda0abba2c23fcb8d82975ee324aece1a65962f9bf2d993acca7b61"
   }
  }
 },
 "nbformat": 4,
 "nbformat_minor": 2
}

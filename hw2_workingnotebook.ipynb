{
  "cells": [
    {
      "cell_type": "markdown",
      "metadata": {
        "id": "5PM86fwOS6DF"
      },
      "source": [
        "# HW2 Coding\n",
        "\n",
        "This workbook will walk you through the plotting problem 2(f) in HW2. It will also provide familiarity with Jupyter Notebook and Python. Please print (to pdf) a completed version of this workbook for submission with HW2.\n",
        "\n",
        "ECE C143A/C243A, Spring Quarter 2023, Prof. J.C. Kao, TAs T. Monsoor, R. Gore, D. Singla"
      ]
    },
    {
      "cell_type": "markdown",
      "metadata": {
        "id": "GUi7ukwTS6DJ"
      },
      "source": [
        "## Import library"
      ]
    },
    {
      "cell_type": "code",
      "execution_count": 4,
      "metadata": {
        "collapsed": true,
        "id": "mtzXtHQAS6DL"
      },
      "outputs": [],
      "source": [
        "import numpy as np \n",
        "import matplotlib.pyplot as plt\n",
        "from typing import Tuple"
      ]
    },
    {
      "cell_type": "markdown",
      "metadata": {
        "id": "5laS_m_3S6DM"
      },
      "source": [
        "## Define the function"
      ]
    },
    {
      "cell_type": "markdown",
      "metadata": {
        "id": "e_dE0aCFS6DN"
      },
      "source": [
        "The function below, ``ptc()`` accepts the average firing rates at three targets and learns the parameters $c_0, c_1,$ and $\\theta$ of the tuning curve.  Please implement this function below.  You may evaluate your execution by running the code under section \"Plot the figure,\" which calculates the tuning parameters using your implementation of ``ptc()``.  The output should appear reasonable."
      ]
    },
    {
      "cell_type": "code",
      "execution_count": 13,
      "metadata": {},
      "outputs": [],
      "source": [
        "def solve_kvector(angles: np.ndarray, freqs) -> np.ndarray:\n",
        "    k_co = np.ones((3, 3))\n",
        "    k_co[:, 1] = np.sin(angles)\n",
        "    k_co[:, 2] = np.cos(angles)\n",
        "\n",
        "    k_vector = np.linalg.solve(k_co, freqs)\n",
        "\n",
        "    c0 = k_vector[0]\n",
        "    theta0 = np.arctan(k_vector[1] / k_vector[2])\n",
        "    c1 = k_vector[1] / np.sin(theta0)\n",
        "\n",
        "    #tuningcurvfunc = c0 + c1 * np.cos(theta - theta0)\n",
        "\n",
        "    return c0, c1, theta0\n",
        "\n",
        "def tuningCurve(k_vector: np.ndarray, c0: float, c1: float, theta0: float, theta: float) -> float:\n",
        "    c0 = k_vector[0]\n",
        "    theta0 = np.arctan(k[1] / k[2])\n",
        "    c1 = k[1] / np.sin(theta0)\n",
        "\n",
        "    tuningcurvfunc = c0 + c1 * np.cos(theta - theta0)"
      ]
    },
    {
      "cell_type": "markdown",
      "metadata": {
        "id": "iwzGFUEtS6DP"
      },
      "source": [
        "## Plot the figure"
      ]
    },
    {
      "cell_type": "markdown",
      "metadata": {
        "id": "igIbEtEsS6DP"
      },
      "source": [
        "The following cells execute your PTC function, printing out the values and plotting the tuning curve."
      ]
    },
    {
      "cell_type": "code",
      "execution_count": 14,
      "metadata": {
        "id": "4B11jcaxS6DQ"
      },
      "outputs": [
        {
          "name": "stdout",
          "output_type": "stream",
          "text": [
            "c0 =  29.333333333333336\n",
            "c1 =  17.371752294393843\n",
            "theta0 =  0.07682851493919758\n"
          ]
        }
      ],
      "source": [
        "training_angles_deg = np.array([30, 150, 270])\n",
        "training_angles_rad = np.radians(training_angles_deg)\n",
        "training_freqs = np.array([45, 15, 28])\n",
        "\n",
        "c0,c1,theta0=solve_kvector(training_angles_rad, training_freqs)\n",
        "print('c0 = ', c0)\n",
        "print('c1 = ', c1)\n",
        "print('theta0 = ', theta0)"
      ]
    },
    {
      "cell_type": "code",
      "execution_count": 17,
      "metadata": {
        "id": "SGuhTfChS6DS"
      },
      "outputs": [
        {
          "data": {
            "image/png": "[encoded data removed]",
            "text/plain": [
              "<Figure size 432x288 with 1 Axes>"
            ]
          },
          "metadata": {
            "needs_background": "light"
          },
          "output_type": "display_data"
        }
      ],
      "source": [
        "theta = np.linspace(0, 2*np.pi, num=80)\n",
        "k0 = c0\n",
        "k1 = c1*np.sin(theta0)\n",
        "k2 = c1*np.cos(theta0)\n",
        "\n",
        "plt.plot([30,150,270],[45,15,28],'r*',10)\n",
        "#plt.plot(theta * 180 / np.pi,tuning_curve,'b',2)\n",
        "\n",
        "plt.plot(theta * 180 / np.pi,c0 + c1 *np.cos(theta - theta0 * np.pi/180),'b',2)\n",
        "plt.xlim ([-10 ,370])\n",
        "plt.ylim ([0,80])\n",
        "plt.xlabel(r'$\\theta$ (degrees)');\n",
        "plt.ylabel(r'$f(\\theta)$');"
      ]
    },
    {
      "cell_type": "code",
      "execution_count": 21,
      "metadata": {
        "collapsed": true,
        "id": "hzGF-igzS6DT"
      },
      "outputs": [
        {
          "name": "stdout",
          "output_type": "stream",
          "text": [
            "[[1. 1. 1.]\n",
            " [1. 1. 1.]\n",
            " [1. 1. 1.]\n",
            " [1. 1. 1.]\n",
            " [1. 1. 1.]]\n"
          ]
        }
      ],
      "source": [
        "# problem 2g\n",
        "\n",
        "yi_vector = np.array([45, 29, 15, 22, 28, 41])\n",
        "\n",
        "def populateF(angles: np.ndarray):  \n",
        "    firingrates = np.ones((5, 3))\n",
        "\n",
        "# I have to create a matrix that has the k0, k1, k2 for each inputted angle. \n",
        "# Then I have to find the least squares solution by using the inverse and transposes\n",
        "# of the firingrates matrix"
      ]
    }
  ],
  "metadata": {
    "colab": {
      "provenance": []
    },
    "kernelspec": {
      "display_name": "base",
      "language": "python",
      "name": "python3"
    },
    "language_info": {
      "codemirror_mode": {
        "name": "ipython",
        "version": 3
      },
      "file_extension": ".py",
      "mimetype": "text/x-python",
      "name": "python",
      "nbconvert_exporter": "python",
      "pygments_lexer": "ipython3",
      "version": "3.8.8"
    },
    "vscode": {
      "interpreter": {
        "hash": "b09acc547dda0abba2c23fcb8d82975ee324aece1a65962f9bf2d993acca7b61"
      }
    }
  },
  "nbformat": 4,
  "nbformat_minor": 0
}

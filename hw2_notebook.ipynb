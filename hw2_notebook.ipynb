{
  "cells": [
    {
      "cell_type": "markdown",
      "metadata": {
        "id": "5PM86fwOS6DF"
      },
      "source": [
        "# HW2 Coding\n",
        "\n",
        "This workbook will walk you through the plotting problem 2(f) in HW2. It will also provide familiarity with Jupyter Notebook and Python. Please print (to pdf) a completed version of this workbook for submission with HW2.\n",
        "\n",
        "ECE C143A/C243A, Spring Quarter 2023, Prof. J.C. Kao, TAs T. Monsoor, R. Gore, D. Singla"
      ]
    },
    {
      "cell_type": "markdown",
      "metadata": {
        "id": "GUi7ukwTS6DJ"
      },
      "source": [
        "## Import library"
      ]
    },
    {
      "cell_type": "code",
      "execution_count": null,
      "metadata": {
        "collapsed": true,
        "id": "mtzXtHQAS6DL"
      },
      "outputs": [],
      "source": [
        "import numpy as np \n",
        "import matplotlib.pyplot as plt"
      ]
    },
    {
      "cell_type": "markdown",
      "metadata": {
        "id": "5laS_m_3S6DM"
      },
      "source": [
        "## Define the function"
      ]
    },
    {
      "cell_type": "markdown",
      "metadata": {
        "id": "e_dE0aCFS6DN"
      },
      "source": [
        "The function below, ``ptc()`` accepts the average firing rates at three targets and learns the parameters $c_0, c_1,$ and $\\theta$ of the tuning curve.  Please implement this function below.  You may evaluate your execution by running the code under section \"Plot the figure,\" which calculates the tuning parameters using your implementation of ``ptc()``.  The output should appear reasonable."
      ]
    },
    {
      "cell_type": "code",
      "execution_count": null,
      "metadata": {
        "collapsed": true,
        "id": "TZwKxxlmS6DO"
      },
      "outputs": [],
      "source": [
        "def ptc(y0 , y1 , y2):\n",
        "    #PTC calculates the tuning curve given average firing rates for certain directions.\n",
        "    \n",
        "    # ================================================================ #\n",
        "    # YOUR CODE HERE:\n",
        "    #  The function takes three inputs corresponding to the average \n",
        "    #  firing rate of a neuron during a reach to 30 degrees (y0), 150 \n",
        "    #  degrees (y1) and 270 degrees (y2). The outputs, c0, c1, and \n",
        "    #  theta0 are the parameters of the tuning curve.\n",
        "    # ================================================================ #\n",
        "    pass\n",
        "    # ================================================================ #\n",
        "    # END YOUR CODE HERE\n",
        "    # ================================================================ #\n",
        "\n",
        "    return c0,c1,theta0"
      ]
    },
    {
      "cell_type": "markdown",
      "metadata": {
        "id": "iwzGFUEtS6DP"
      },
      "source": [
        "## Plot the figure"
      ]
    },
    {
      "cell_type": "markdown",
      "metadata": {
        "id": "igIbEtEsS6DP"
      },
      "source": [
        "The following cells execute your PTC function, printing out the values and plotting the tuning curve."
      ]
    },
    {
      "cell_type": "code",
      "execution_count": null,
      "metadata": {
        "id": "4B11jcaxS6DQ"
      },
      "outputs": [],
      "source": [
        "c0,c1,theta0=ptc(45,15,28)\n",
        "print('c0 = ', c0)\n",
        "print('c1 = ', c1)\n",
        "print('theta0 = ', theta0)"
      ]
    },
    {
      "cell_type": "code",
      "execution_count": null,
      "metadata": {
        "id": "SGuhTfChS6DS"
      },
      "outputs": [],
      "source": [
        "theta = np.linspace(0, 2*np.pi, num=80)\n",
        "plt.plot([30,150,270],[45,15,28],'r*',10)\n",
        "plt.plot(theta * 180 / np.pi,c0 + c1 *np.cos(theta - theta0 * np.pi/180),'b',2)\n",
        "plt.xlim ([-10 ,370])\n",
        "plt.ylim ([0,80])\n",
        "plt.xlabel(r'$\\theta$ (degrees)');\n",
        "plt.ylabel(r'$f(\\theta)$');"
      ]
    },
    {
      "cell_type": "code",
      "execution_count": null,
      "metadata": {
        "collapsed": true,
        "id": "hzGF-igzS6DT"
      },
      "outputs": [],
      "source": []
    }
  ],
  "metadata": {
    "kernelspec": {
      "display_name": "Python 2",
      "language": "python",
      "name": "python2"
    },
    "language_info": {
      "codemirror_mode": {
        "name": "ipython",
        "version": 2
      },
      "file_extension": ".py",
      "mimetype": "text/x-python",
      "name": "python",
      "nbconvert_exporter": "python",
      "pygments_lexer": "ipython2",
      "version": "2.7.13"
    },
    "colab": {
      "provenance": []
    }
  },
  "nbformat": 4,
  "nbformat_minor": 0
}